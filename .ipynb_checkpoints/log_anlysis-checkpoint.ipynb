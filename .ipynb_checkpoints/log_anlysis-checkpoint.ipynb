{
 "cells": [
  {
   "cell_type": "markdown",
   "id": "77df8470-b0f2-426d-bbc6-101c787c884e",
   "metadata": {},
   "source": [
    "# Log anomaly,security threat detection and predictive maintenance\n",
    "\n",
    "### Table of Contents\n",
    "\n",
    "* **[OVERVIEW](#OVERVIEW)**\n",
    "    \n",
    "* **[Data Exploration](#Data-Preparation)**  \n",
    "    * [Identify the data issues](#Identify-the-data-issues)\n",
    "        * [Checking for missing Values](#Checking-for-missing-Values)\n",
    "        * [Checking Zero values](#Checking-0-values)\n",
    "        * [Checking Unique Values](#Checking-Unique-Values)\n",
    "        * [Check Deuplicate values](#Check-Deuplicate-values)\n",
    "* **[Data visualziation](#Data-visualziation)**\n",
    "    * [HTTP Methods Distribution](#HTTP-Methods-Distribution)\n",
    "    * [Status Codes Distribution](#Status-Codes-Distribution)\n",
    "    * [User Agent Distribution](#User-Agent-Distribution)\n",
    "    * [Finding outliers](#Finding-outliers)\n",
    "    * [Finding corelations of all data attributes](#Finding-corelations-of-all-data-attributes)\n",
    "* **[Data Preparation](#Data-Preparation)**\n",
    "    * [Data Cleaning](#Data-Cleaning)\n",
    "        * [Handling Missing Values](#Handling-Missing-Values)\n",
    "        * [Parsing Timestamps](#Parsing-Timestamps )\n",
    "        * [Finding Error Counts](#Finding-Error-Counts)\n",
    "        * [Handling Outliers](#Handling-Outliers)\n",
    "* **[Data Analysis](#Data-Analysis)**  \n",
    "    * [Visitor Analysis](#Visitor-Analysis)\n",
    "        * [Unique Visitors](#Unique-Visitors)\n",
    "    * [Behavior Analysis](#Behavior-Analysis)\n",
    "        * [Popular Pages](#Popular-Pages)\n",
    "        * [Referrer Analysis](#Referrer-Analysis)\n",
    "        * [User behavior analysis](#User-behavior-analysis)\n",
    "    * [Crawler Detection](#Crawler-Detection)\n",
    "        * [Identify Crawlers](#Identify-Crawlers)\n",
    "    * [Security Insights](#Security-Insights)\n",
    "        * [Identify Suspicious Requests](#Identify-Suspicious-Requests)\n",
    "        * [Unsuccessful Login Attempts](#Unsuccessful-Login-Attempts)   \n",
    "    * [Business Insights](#Business-Insights)\n",
    "        * [Product Views](#Product-Views)\n",
    "* **[ML Use Cases](#ML-Use-Cases)**  \n",
    "    * [Predictive Maintenance](#Predictive-Maintenance)\n",
    "    * [Anomaly Detection](#Anomaly-Detection)\n",
    "    * [Security Threat Detection](#Security-Threat-Detection) \n",
    "        * [Tokenization](#Tokenization)\n",
    "        * [Keyword Extraction](#Keyword-Extraction)\n",
    "        * [Frequency Analysis](#Frequency-Analysis)\n",
    "        * [bag-of-words approach to vectorize the textual features](#bag-of-words-approach-to-vectorize-the-textual-features)\n",
    "\n"
   ]
  },
  {
   "cell_type": "markdown",
   "id": "1f38c200-7b80-443d-8aaf-ef0243e44bcf",
   "metadata": {},
   "source": [
    "# OVERVIEW"
   ]
  },
  {
   "cell_type": "markdown",
   "id": "a3dac61f-e2c2-44e5-b4c6-5a316637ec84",
   "metadata": {},
   "source": [
    "<p>Web sever logs contain information on any event that was registered/logged. This contains a lot of insights on website visitors, behavior, crawlers accessing the site, business insights, security issues, and more.</p>\n",
    "<p>This is an exercise for trying to gain insights from the web server logs.</p>"
   ]
  },
  {
   "cell_type": "code",
   "execution_count": 142,
   "id": "d722ad88-4aab-44bf-8e58-74e96ef14f94",
   "metadata": {},
   "outputs": [],
   "source": [
    "import pandas as pd\n",
    "import re\n",
    "from sklearn.model_selection import train_test_split\n",
    "from sklearn.feature_extraction.text import CountVectorizer\n",
    "from sklearn.naive_bayes import MultinomialNB\n",
    "from sklearn.metrics import accuracy_score, classification_report\n",
    "import missingno as msno # Library to visualize missing values\n",
    "import matplotlib.pyplot as plt\n",
    "import numpy as np\n",
    "import seaborn as sns\n",
    "import warnings\n",
    "from warnings import filterwarnings \n",
    "filterwarnings('ignore')\n",
    "\n",
    "def parse_log_entry(entry):\n",
    "    pattern = r'(?P<IP>\\d+\\.\\d+\\.\\d+\\.\\d+) - - \\[(?P<Timestamp>[^\\]]+)\\] \"(?P<Method>[A-Z]+) (?P<Path>[^\"]+) HTTP/1\\.1\" (?P<Status>\\d+) (?P<Bytes>\\d+) \"(?P<Referrer>[^\"]*)\" \"(?P<User_Agent>[^\"]*)\"'\n",
    "    match = re.match(pattern, entry)\n",
    "    return match.groupdict() if match else {}\n"
   ]
  },
  {
   "cell_type": "markdown",
   "id": "56de7f57-a0a9-40e0-87e6-8d46ad03004e",
   "metadata": {},
   "source": [
    "# Data exploration\n",
    "### Exclude the log data with certain pattern match"
   ]
  },
  {
   "cell_type": "code",
   "execution_count": 103,
   "id": "6ff02d1d-5531-4996-923a-d12712b30f5a",
   "metadata": {},
   "outputs": [
    {
     "data": {
      "text/html": [
       "<div>\n",
       "<style scoped>\n",
       "    .dataframe tbody tr th:only-of-type {\n",
       "        vertical-align: middle;\n",
       "    }\n",
       "\n",
       "    .dataframe tbody tr th {\n",
       "        vertical-align: top;\n",
       "    }\n",
       "\n",
       "    .dataframe thead th {\n",
       "        text-align: right;\n",
       "    }\n",
       "</style>\n",
       "<table border=\"1\" class=\"dataframe\">\n",
       "  <thead>\n",
       "    <tr style=\"text-align: right;\">\n",
       "      <th></th>\n",
       "      <th>IP</th>\n",
       "      <th>Timestamp</th>\n",
       "      <th>Method</th>\n",
       "      <th>Path</th>\n",
       "      <th>Status</th>\n",
       "      <th>Bytes</th>\n",
       "      <th>Referrer</th>\n",
       "      <th>User_Agent</th>\n",
       "    </tr>\n",
       "  </thead>\n",
       "  <tbody>\n",
       "    <tr>\n",
       "      <th>0</th>\n",
       "      <td>54.36.149.41</td>\n",
       "      <td>22/Jan/2019:03:56:14 +0330</td>\n",
       "      <td>GET</td>\n",
       "      <td>/filter/27|13%20%D9%85%DA%AF%D8%A7%D9%BE%DB%8C...</td>\n",
       "      <td>200</td>\n",
       "      <td>30577</td>\n",
       "      <td>-</td>\n",
       "      <td>Mozilla/5.0 (compatible; AhrefsBot/6.1; +http:...</td>\n",
       "    </tr>\n",
       "    <tr>\n",
       "      <th>1</th>\n",
       "      <td>91.99.72.15</td>\n",
       "      <td>22/Jan/2019:03:56:17 +0330</td>\n",
       "      <td>GET</td>\n",
       "      <td>/product/31893/62100/%D8%B3%D8%B4%D9%88%D8%A7%...</td>\n",
       "      <td>200</td>\n",
       "      <td>41483</td>\n",
       "      <td>-</td>\n",
       "      <td>Mozilla/5.0 (Windows NT 6.2; Win64; x64; rv:16...</td>\n",
       "    </tr>\n",
       "    <tr>\n",
       "      <th>2</th>\n",
       "      <td>66.249.66.194</td>\n",
       "      <td>22/Jan/2019:03:56:18 +0330</td>\n",
       "      <td>GET</td>\n",
       "      <td>/filter/b41,b665,c150%7C%D8%A8%D8%AE%D8%A7%D8%...</td>\n",
       "      <td>200</td>\n",
       "      <td>34277</td>\n",
       "      <td>-</td>\n",
       "      <td>Mozilla/5.0 (compatible; Googlebot/2.1; +http:...</td>\n",
       "    </tr>\n",
       "    <tr>\n",
       "      <th>3</th>\n",
       "      <td>207.46.13.136</td>\n",
       "      <td>22/Jan/2019:03:56:18 +0330</td>\n",
       "      <td>GET</td>\n",
       "      <td>/product/10214</td>\n",
       "      <td>200</td>\n",
       "      <td>39677</td>\n",
       "      <td>-</td>\n",
       "      <td>Mozilla/5.0 (compatible; bingbot/2.0; +http://...</td>\n",
       "    </tr>\n",
       "    <tr>\n",
       "      <th>4</th>\n",
       "      <td>178.253.33.51</td>\n",
       "      <td>22/Jan/2019:03:56:19 +0330</td>\n",
       "      <td>GET</td>\n",
       "      <td>/m/product/32574/62991/%D9%85%D8%A7%D8%B4%DB%8...</td>\n",
       "      <td>200</td>\n",
       "      <td>20406</td>\n",
       "      <td>https://www.zanbil.ir/m/filter/p5767%2Ct156?na...</td>\n",
       "      <td>Mozilla/5.0 (Linux; Android 5.1; HTC Desire 72...</td>\n",
       "    </tr>\n",
       "  </tbody>\n",
       "</table>\n",
       "</div>"
      ],
      "text/plain": [
       "              IP                   Timestamp Method  \\\n",
       "0   54.36.149.41  22/Jan/2019:03:56:14 +0330    GET   \n",
       "1    91.99.72.15  22/Jan/2019:03:56:17 +0330    GET   \n",
       "2  66.249.66.194  22/Jan/2019:03:56:18 +0330    GET   \n",
       "3  207.46.13.136  22/Jan/2019:03:56:18 +0330    GET   \n",
       "4  178.253.33.51  22/Jan/2019:03:56:19 +0330    GET   \n",
       "\n",
       "                                                Path Status  Bytes  \\\n",
       "0  /filter/27|13%20%D9%85%DA%AF%D8%A7%D9%BE%DB%8C...    200  30577   \n",
       "1  /product/31893/62100/%D8%B3%D8%B4%D9%88%D8%A7%...    200  41483   \n",
       "2  /filter/b41,b665,c150%7C%D8%A8%D8%AE%D8%A7%D8%...    200  34277   \n",
       "3                                     /product/10214    200  39677   \n",
       "4  /m/product/32574/62991/%D9%85%D8%A7%D8%B4%DB%8...    200  20406   \n",
       "\n",
       "                                            Referrer  \\\n",
       "0                                                  -   \n",
       "1                                                  -   \n",
       "2                                                  -   \n",
       "3                                                  -   \n",
       "4  https://www.zanbil.ir/m/filter/p5767%2Ct156?na...   \n",
       "\n",
       "                                          User_Agent  \n",
       "0  Mozilla/5.0 (compatible; AhrefsBot/6.1; +http:...  \n",
       "1  Mozilla/5.0 (Windows NT 6.2; Win64; x64; rv:16...  \n",
       "2  Mozilla/5.0 (compatible; Googlebot/2.1; +http:...  \n",
       "3  Mozilla/5.0 (compatible; bingbot/2.0; +http://...  \n",
       "4  Mozilla/5.0 (Linux; Android 5.1; HTC Desire 72...  "
      ]
     },
     "execution_count": 103,
     "metadata": {},
     "output_type": "execute_result"
    }
   ],
   "source": [
    "# Define excluded patterns\n",
    "excluded_patterns = ['/image/', '.css', '.png', '.jpg', '.jpeg', '.mp3', '.js']\n",
    "\n",
    "# Read the log file into a list of dictionaries, excluding lines with certain patterns\n",
    "with open('data/access.log') as file:\n",
    "    log_entries = [entry for entry in file.readlines() if not any(pattern in entry for pattern in excluded_patterns)]\n",
    "\n",
    "# Convert the list of dictionaries to a DataFrame\n",
    "log_data = [parse_log_entry(entry) for entry in log_entries]\n",
    "log_df = pd.DataFrame(log_data)\n",
    "\n",
    "# Display the resulting DataFrame\n",
    "log_df.head()"
   ]
  },
  {
   "cell_type": "markdown",
   "id": "87ac7616-36f3-40ea-b276-8bdbbffa5814",
   "metadata": {},
   "source": [
    "## Identify the data issues\n",
    "### Checking for missing Values"
   ]
  },
  {
   "cell_type": "code",
   "execution_count": 104,
   "id": "3362b9ba-3391-4d31-8bbf-5a572cf7aac7",
   "metadata": {},
   "outputs": [
    {
     "name": "stdout",
     "output_type": "stream",
     "text": [
      "Columns with missing values:\n",
      "IP            686\n",
      "Timestamp     686\n",
      "Method        686\n",
      "Path          686\n",
      "Status        686\n",
      "Bytes         686\n",
      "Referrer      686\n",
      "User_Agent    686\n",
      "dtype: int64\n"
     ]
    }
   ],
   "source": [
    "# Find missing values and print columns with missing values\n",
    "missing_values = log_df.isna().sum()\n",
    "print(\"Columns with missing values:\")\n",
    "print(missing_values[missing_values > 0])"
   ]
  },
  {
   "cell_type": "code",
   "execution_count": 105,
   "id": "a1667db6-1673-4ccb-aaa4-1b63db190d09",
   "metadata": {},
   "outputs": [
    {
     "data": {
      "image/png": "[encoded data removed]",
      "text/plain": [
       "<Figure size 2500x1000 with 3 Axes>"
      ]
     },
     "metadata": {},
     "output_type": "display_data"
    }
   ],
   "source": [
    "# Visualize the amount of missing values across the dataset features\n",
    "msno.bar(log_df);"
   ]
  },
  {
   "cell_type": "markdown",
   "id": "c47564da-e639-46a5-a562-4b100ab2b4a9",
   "metadata": {},
   "source": [
    "<div style=\"background-color: #e8f3ff; border: 1px solid #aecae8; padding: 10px; border-radius: 3px;\">\n",
    "<b>Observation:</b> From the chart above, it is evident that there are missing values\n",
    "</div>"
   ]
  },
  {
   "cell_type": "markdown",
   "id": "a3d60810-b1fa-4c5e-9c37-4ec1cf093280",
   "metadata": {},
   "source": [
    "### Calculate the number of null values for each column"
   ]
  },
  {
   "cell_type": "code",
   "execution_count": 106,
   "id": "55bc4469-a07c-4fd4-aaa4-f749c18c2ef6",
   "metadata": {},
   "outputs": [
    {
     "name": "stdout",
     "output_type": "stream",
     "text": [
      "            Null Counts    % Null\n",
      "IP                  686  0.023958\n",
      "Timestamp           686  0.023958\n",
      "Method              686  0.023958\n",
      "Path                686  0.023958\n",
      "Status              686  0.023958\n",
      "Bytes               686  0.023958\n",
      "Referrer            686  0.023958\n",
      "User_Agent          686  0.023958\n"
     ]
    }
   ],
   "source": [
    "# Calculate the number of null values for each column\n",
    "null_counts = log_df.isnull().sum()\n",
    "\n",
    "# Calculate the percentage of null values for each column\n",
    "null_percent = (null_counts / len(log_df)) * 100\n",
    "\n",
    "# Combine the results into a DataFrame\n",
    "null_df = pd.DataFrame({'Null Counts': null_counts, '% Null': null_percent}).sort_values(by='Null Counts', ascending=False)\n",
    "\n",
    "print(null_df)\n"
   ]
  },
  {
   "cell_type": "markdown",
   "id": "88c3e3c3-6160-4e43-b7f8-7a4fa0c1ba52",
   "metadata": {},
   "source": [
    "<div style=\"background-color: #e8f3ff; border: 1px solid #aecae8; padding: 10px; border-radius: 3px;\">\n",
    "<b>Observation:</b> It appears that some features have null values.\n",
    "</div>"
   ]
  },
  {
   "cell_type": "markdown",
   "id": "cbbfc9f0-de22-451e-9207-8224771dd183",
   "metadata": {},
   "source": [
    "### Checking 0 values"
   ]
  },
  {
   "cell_type": "code",
   "execution_count": 107,
   "id": "efbd43ce-4cb1-460a-9749-378239d91fae",
   "metadata": {},
   "outputs": [
    {
     "data": {
      "text/plain": [
       "IP            0\n",
       "Timestamp     0\n",
       "Method        0\n",
       "Path          0\n",
       "Status        0\n",
       "Bytes         0\n",
       "Referrer      0\n",
       "User_Agent    0\n",
       "dtype: int64"
      ]
     },
     "execution_count": 107,
     "metadata": {},
     "output_type": "execute_result"
    }
   ],
   "source": [
    "log_df.eq(0).sum()"
   ]
  },
  {
   "cell_type": "markdown",
   "id": "70abe798-c703-4747-a77a-e2df78ed2bbe",
   "metadata": {},
   "source": [
    "<div style=\"background-color: #e8f3ff; border: 1px solid #aecae8; padding: 10px; border-radius: 3px;\">\n",
    "<b>Observation:</b> There are no 0 values.\n",
    "</div>"
   ]
  },
  {
   "cell_type": "markdown",
   "id": "3c5a7dab-ec63-4c4b-ad52-8e08ab80169c",
   "metadata": {},
   "source": [
    "### Checking Unique Values"
   ]
  },
  {
   "cell_type": "code",
   "execution_count": 108,
   "id": "3c266556-ebe7-4584-8cd7-5f0ecbaac00e",
   "metadata": {},
   "outputs": [
    {
     "data": {
      "text/html": [
       "<div>\n",
       "<style scoped>\n",
       "    .dataframe tbody tr th:only-of-type {\n",
       "        vertical-align: middle;\n",
       "    }\n",
       "\n",
       "    .dataframe tbody tr th {\n",
       "        vertical-align: top;\n",
       "    }\n",
       "\n",
       "    .dataframe thead th {\n",
       "        text-align: right;\n",
       "    }\n",
       "</style>\n",
       "<table border=\"1\" class=\"dataframe\">\n",
       "  <thead>\n",
       "    <tr style=\"text-align: right;\">\n",
       "      <th></th>\n",
       "      <th>Unique Values</th>\n",
       "      <th>Dtype</th>\n",
       "      <th>% Null</th>\n",
       "    </tr>\n",
       "  </thead>\n",
       "  <tbody>\n",
       "    <tr>\n",
       "      <th>Path</th>\n",
       "      <td>745272</td>\n",
       "      <td>object</td>\n",
       "      <td>0.023958</td>\n",
       "    </tr>\n",
       "    <tr>\n",
       "      <th>Timestamp</th>\n",
       "      <td>394007</td>\n",
       "      <td>object</td>\n",
       "      <td>0.023958</td>\n",
       "    </tr>\n",
       "    <tr>\n",
       "      <th>IP</th>\n",
       "      <td>140835</td>\n",
       "      <td>object</td>\n",
       "      <td>0.023958</td>\n",
       "    </tr>\n",
       "    <tr>\n",
       "      <th>Referrer</th>\n",
       "      <td>84809</td>\n",
       "      <td>object</td>\n",
       "      <td>0.023958</td>\n",
       "    </tr>\n",
       "    <tr>\n",
       "      <th>Bytes</th>\n",
       "      <td>55329</td>\n",
       "      <td>object</td>\n",
       "      <td>0.023958</td>\n",
       "    </tr>\n",
       "    <tr>\n",
       "      <th>User_Agent</th>\n",
       "      <td>18713</td>\n",
       "      <td>object</td>\n",
       "      <td>0.023958</td>\n",
       "    </tr>\n",
       "    <tr>\n",
       "      <th>Status</th>\n",
       "      <td>15</td>\n",
       "      <td>object</td>\n",
       "      <td>0.023958</td>\n",
       "    </tr>\n",
       "    <tr>\n",
       "      <th>Method</th>\n",
       "      <td>6</td>\n",
       "      <td>object</td>\n",
       "      <td>0.023958</td>\n",
       "    </tr>\n",
       "  </tbody>\n",
       "</table>\n",
       "</div>"
      ],
      "text/plain": [
       "            Unique Values   Dtype    % Null\n",
       "Path               745272  object  0.023958\n",
       "Timestamp          394007  object  0.023958\n",
       "IP                 140835  object  0.023958\n",
       "Referrer            84809  object  0.023958\n",
       "Bytes               55329  object  0.023958\n",
       "User_Agent          18713  object  0.023958\n",
       "Status                 15  object  0.023958\n",
       "Method                  6  object  0.023958"
      ]
     },
     "execution_count": 108,
     "metadata": {},
     "output_type": "execute_result"
    }
   ],
   "source": [
    "# Assemble the unique counts with the data types and null counts for greater insight\n",
    "unique_counts = log_df.nunique(axis=0)\n",
    "dtypes = log_df.dtypes\n",
    "null_percent = (log_df.isna().sum() / len(log_df)) * 100\n",
    "unique_dtypes_df = pd.DataFrame({'Unique Values': unique_counts,'Dtype': \n",
    "                                 dtypes,'% Null': null_percent}).sort_values(by='Unique Values', \n",
    "                                                                             ascending=False)\n",
    "unique_dtypes_df"
   ]
  },
  {
   "cell_type": "markdown",
   "id": "e6c4f779-9f31-48a3-93d4-7103dcce0d7b",
   "metadata": {},
   "source": [
    "<div style=\"background-color: #e8f3ff; border: 1px solid #aecae8; padding: 10px; border-radius: 3px;\">\n",
    "<b>Observation:</b> There seems to be a presence of categorical values, all falling under the 'object' data type. I'll need to conduct a closer examination of its values.\n",
    "</div>"
   ]
  },
  {
   "cell_type": "markdown",
   "id": "74470747-7734-4c8e-a32f-baa91f248fa8",
   "metadata": {},
   "source": [
    "### Check Deuplicate values"
   ]
  },
  {
   "cell_type": "code",
   "execution_count": 109,
   "id": "615a8d66-fc21-4f34-a99a-49ac9d8926c6",
   "metadata": {},
   "outputs": [
    {
     "name": "stdout",
     "output_type": "stream",
     "text": [
      "Duplicate Rows:\n",
      "                    IP                   Timestamp Method  \\\n",
      "671                NaN                         NaN    NaN   \n",
      "991      66.111.54.249  22/Jan/2019:04:02:23 +0330    GET   \n",
      "1681       5.117.0.237  22/Jan/2019:04:07:15 +0330    GET   \n",
      "2674               NaN                         NaN    NaN   \n",
      "2677               NaN                         NaN    NaN   \n",
      "...                ...                         ...    ...   \n",
      "2863156   66.249.66.91  26/Jan/2019:20:28:53 +0330    GET   \n",
      "2863167   66.249.66.91  26/Jan/2019:20:28:54 +0330    GET   \n",
      "2863168   66.249.66.91  26/Jan/2019:20:28:54 +0330    GET   \n",
      "2863176   66.249.66.91  26/Jan/2019:20:28:55 +0330    GET   \n",
      "2863197   66.249.66.91  26/Jan/2019:20:28:57 +0330    GET   \n",
      "\n",
      "                                                      Path Status Bytes  \\\n",
      "671                                                    NaN    NaN   NaN   \n",
      "991      /m/product/27677/56223/%DB%8C%D8%AE%DA%86%D8%A...    499     0   \n",
      "1681                                 /product/33639/65021/    302     0   \n",
      "2674                                                   NaN    NaN   NaN   \n",
      "2677                                                   NaN    NaN   NaN   \n",
      "...                                                    ...    ...   ...   \n",
      "2863156                  /static/css/font/wyekan/font.woff    304     0   \n",
      "2863167                  /static/css/font/wyekan/font.woff    304     0   \n",
      "2863168                  /static/css/font/wyekan/font.woff    304     0   \n",
      "2863176                  /static/css/font/wyekan/font.woff    304     0   \n",
      "2863197                  /static/css/font/wyekan/font.woff    304     0   \n",
      "\n",
      "                                                  Referrer  \\\n",
      "671                                                    NaN   \n",
      "991      https://www.zanbil.ir/m/product/34024/64841/%D...   \n",
      "1681     https://emalls.ir/%D8%AE%D8%B1%DB%8C%D8%AF~eit...   \n",
      "2674                                                   NaN   \n",
      "2677                                                   NaN   \n",
      "...                                                    ...   \n",
      "2863156                                                  -   \n",
      "2863167                                                  -   \n",
      "2863168                                                  -   \n",
      "2863176                                                  -   \n",
      "2863197                                                  -   \n",
      "\n",
      "                                                User_Agent  \n",
      "671                                                    NaN  \n",
      "991      Mozilla/5.0 (Linux; Android 5.0; SM-G900H Buil...  \n",
      "1681     Mozilla/5.0 (Linux; Android 8.0.0; SM-A600F) A...  \n",
      "2674                                                   NaN  \n",
      "2677                                                   NaN  \n",
      "...                                                    ...  \n",
      "2863156  Mozilla/5.0 (Linux; Android 6.0.1; Nexus 5X Bu...  \n",
      "2863167  Mozilla/5.0 (Linux; Android 6.0.1; Nexus 5X Bu...  \n",
      "2863168  Mozilla/5.0 (Linux; Android 6.0.1; Nexus 5X Bu...  \n",
      "2863176  Mozilla/5.0 (Linux; Android 6.0.1; Nexus 5X Bu...  \n",
      "2863197  Mozilla/5.0 (Linux; Android 6.0.1; Nexus 5X Bu...  \n",
      "\n",
      "[67208 rows x 8 columns]\n"
     ]
    }
   ],
   "source": [
    "# Check for duplicate rows\n",
    "duplicate_rows = log_df.duplicated()\n",
    "\n",
    "# Display duplicate rows\n",
    "print(\"Duplicate Rows:\")\n",
    "print(log_df[duplicate_rows])\n"
   ]
  },
  {
   "cell_type": "markdown",
   "id": "c6cbfcf3-b722-4e50-840a-5d027d6cfb29",
   "metadata": {},
   "source": [
    "# Data visualziation\n"
   ]
  },
  {
   "cell_type": "markdown",
   "id": "c31a446b-1b15-4bd7-aea7-f21e784ffa8e",
   "metadata": {},
   "source": [
    "### HTTP Methods Distribution"
   ]
  },
  {
   "cell_type": "code",
   "execution_count": 147,
   "id": "ed7d9e0b-6f83-4e89-9b9b-df76f66c0db7",
   "metadata": {},
   "outputs": [
    {
     "data": {
      "image/png": "[encoded data removed]",
      "text/plain": [
       "<Figure size 640x480 with 1 Axes>"
      ]
     },
     "metadata": {},
     "output_type": "display_data"
    }
   ],
   "source": [
    "# Assuming 'Method' is a categorical column in log_df\n",
    "sns.countplot(x='Method', data=log_df)\n",
    "plt.title('Countplot of Methods')\n",
    "plt.xlabel('Method')\n",
    "plt.ylabel('Count')\n",
    "\n",
    "# Save the countplot as an image file\n",
    "plt.savefig('images/countplot_methods.png')\n",
    "\n",
    "# Show the plot\n",
    "plt.show()\n"
   ]
  },
  {
   "cell_type": "markdown",
   "id": "32259698-f35e-48d4-8de2-abb026be0c2e",
   "metadata": {},
   "source": [
    "### Status Codes Distribution"
   ]
  },
  {
   "cell_type": "code",
   "execution_count": 148,
   "id": "b3f59729-fff0-4d64-b0d0-2ed08063f9ac",
   "metadata": {},
   "outputs": [
    {
     "data": {
      "image/png": "[encoded data removed]",
      "text/plain": [
       "<Figure size 640x480 with 1 Axes>"
      ]
     },
     "metadata": {},
     "output_type": "display_data"
    }
   ],
   "source": [
    "import seaborn as sns\n",
    "import matplotlib.pyplot as plt\n",
    "\n",
    "# Assuming 'Status' is a categorical column in log_df\n",
    "sns.countplot(x='Status', data=log_df)\n",
    "plt.title('Countplot of Status')\n",
    "plt.xlabel('Status')\n",
    "plt.ylabel('Count')\n",
    "\n",
    "# Save the countplot as an image file\n",
    "plt.savefig('images/countplot_status.png')\n",
    "\n",
    "# Show the plot\n",
    "plt.show()\n",
    "\n"
   ]
  },
  {
   "cell_type": "markdown",
   "id": "521d5d54-bf6a-4e97-949b-7e660e625424",
   "metadata": {},
   "source": [
    "### User Agent Distribution"
   ]
  },
  {
   "cell_type": "markdown",
   "id": "5533db9b-28b2-44aa-81e0-6b40120cc675",
   "metadata": {},
   "source": [
    "<div style=\"background-color: #e8f3ff; border: 1px solid #aecae8; padding: 10px; border-radius: 3px;\">\n",
    "<b>Observation:</b> Most of the requests are success and there are some failures and need to analyze the failuers\n",
    "</div>"
   ]
  },
  {
   "cell_type": "code",
   "execution_count": 149,
   "id": "8d220901-118d-48e5-92c1-f6267164241e",
   "metadata": {},
   "outputs": [
    {
     "data": {
      "image/png": "[encoded data removed]",
      "text/plain": [
       "<Figure size 1000x600 with 1 Axes>"
      ]
     },
     "metadata": {},
     "output_type": "display_data"
    }
   ],
   "source": [
    "top_user_agents = log_df['User_Agent'].value_counts().nlargest(10)\n",
    "\n",
    "plt.figure(figsize=(10, 6))\n",
    "sns.barplot(x=top_user_agents.values, y=top_user_agents.index, palette='viridis')\n",
    "plt.title('Top User Agents')\n",
    "plt.xlabel('Count')\n",
    "plt.ylabel('User Agent')\n",
    "\n",
    "# Save the bar plot as an image file\n",
    "plt.savefig('images/top_user_agents_barplot.png')\n",
    "\n",
    "# Show the plot\n",
    "plt.show()\n",
    "\n"
   ]
  },
  {
   "cell_type": "markdown",
   "id": "89b3339f-472f-4be4-b6ee-e33f68dbff0f",
   "metadata": {},
   "source": [
    "## Finding outliers"
   ]
  },
  {
   "cell_type": "code",
   "execution_count": 113,
   "id": "15688ec1-fdff-45c4-a2b4-132d0db322f6",
   "metadata": {},
   "outputs": [
    {
     "name": "stdout",
     "output_type": "stream",
     "text": [
      "Unique values for IP:\n",
      "['54.36.149.41' '91.99.72.15' '66.249.66.194' ... '151.241.254.118'\n",
      " '5.213.7.50' '45.79.177.249']\n",
      "\n",
      "Unique values for Timestamp:\n",
      "['22/Jan/2019:03:56:14 +0330' '22/Jan/2019:03:56:17 +0330'\n",
      " '22/Jan/2019:03:56:18 +0330' ... '26/Jan/2019:20:29:11 +0330'\n",
      " '26/Jan/2019:20:29:12 +0330' '26/Jan/2019:20:29:13 +0330']\n",
      "\n",
      "Unique values for Method:\n",
      "['GET' 'POST' 'HEAD' nan 'OPTIONS' 'CONNECT' 'PROPFIND']\n",
      "\n",
      "Unique values for Path:\n",
      "['/filter/27|13%20%D9%85%DA%AF%D8%A7%D9%BE%DB%8C%DA%A9%D8%B3%D9%84,27|%DA%A9%D9%85%D8%AA%D8%B1%20%D8%A7%D8%B2%205%20%D9%85%DA%AF%D8%A7%D9%BE%DB%8C%DA%A9%D8%B3%D9%84,p53'\n",
      " '/product/31893/62100/%D8%B3%D8%B4%D9%88%D8%A7%D8%B1-%D8%AE%D8%A7%D9%86%DA%AF%DB%8C-%D9%BE%D8%B1%D9%86%D8%B3%D9%84%DB%8C-%D9%85%D8%AF%D9%84-PR257AT'\n",
      " '/filter/b41,b665,c150%7C%D8%A8%D8%AE%D8%A7%D8%B1%D9%BE%D8%B2,p56' ...\n",
      " '/filter/b583,b523' '/search/3500/null%2Cb245'\n",
      " '/product/29746/%D9%85%D8%A7%D8%B4%DB%8C%D9%86-%D8%A7%D8%B5%D9%84%D8%A7%D8%AD-%D8%A8%D8%AF%D9%86-%D9%BE%D8%B1%D9%86%D8%B3%D9%84%DB%8C-%D9%85%D8%AF%D9%84-Princely-Body-Groomer-PR461AT']\n",
      "\n",
      "Unique values for Status:\n",
      "['200' '404' '302' '301' nan '499' '304' '500' '400' '403' '502' '504'\n",
      " '408' '401' '405' '206']\n",
      "\n",
      "Unique values for Bytes:\n",
      "['30577' '41483' '34277' ... '11433' '45752' '9019']\n",
      "\n",
      "Unique values for Referrer:\n",
      "['-'\n",
      " 'https://www.zanbil.ir/m/filter/p5767%2Ct156?name=%D9%85%D8%A7%D8%B4%DB%8C%D9%86-%D8%A7%D8%B5%D9%84%D8%A7%D8%AD&productType=electric-shavers'\n",
      " 'https://www.zanbil.ir/m/product/32574/62991/%D9%85%D8%A7%D8%B4%DB%8C%D9%86-%D8%A7%D8%B5%D9%84%D8%A7%D8%AD-%D8%B5%D9%88%D8%B1%D8%AA-%D9%BE%D8%B1%D9%86%D8%B3%D9%84%DB%8C-%D9%85%D8%AF%D9%84-PR465AT'\n",
      " ...\n",
      " 'https://www-zanbil-ir.cdn.ampproject.org/v/s/www.zanbil.ir/m/filter/b1,p62,stexists?amp_js_v=0.1&usqp=mq331AQECAEoAQ%3D%3D'\n",
      " 'https://www.zanbil.ir/search/%D8%B3%D8%B1%D8%B1%D8%B3%DB%8C%D8%AF/p0'\n",
      " 'https://www-zanbil-ir.cdn.ampproject.org/v/s/www.zanbil.ir/m/product/32148/%DA%AF%D9%88%D8%B4%DB%8C-%D8%AA%D9%84%D9%81%D9%86-%D8%A8%DB%8C-%D8%B3%DB%8C%D9%85-%D9%BE%D8%A7%D9%86%D8%A7%D8%B3%D9%88%D9%86%DB%8C%DA%A9-%D9%85%D8%AF%D9%84-Panasonic-Cordless-Telephone-KX-TGC412?amp_js_v=0.1&usqp=mq331AQECAEoAQ%3D%3D']\n",
      "\n",
      "Unique values for User_Agent:\n",
      "['Mozilla/5.0 (compatible; AhrefsBot/6.1; +http://ahrefs.com/robot/)'\n",
      " 'Mozilla/5.0 (Windows NT 6.2; Win64; x64; rv:16.0)Gecko/16.0 Firefox/16.0'\n",
      " 'Mozilla/5.0 (compatible; Googlebot/2.1; +http://www.google.com/bot.html)'\n",
      " ...\n",
      " 'Mozilla/5.0 (Linux; Android 5.1; HUAWEI LYO-L02 Build/HUAWEILYO-L02) AppleWebKit/537.36 (KHTML, like Gecko) Chrome/70.0.3538.110 Mobile Safari/537.36 OPR/49.2.2361.134358'\n",
      " 'Mozilla/5.0 (Linux; Android 6.0.1; SM-C7010 Build/MMB29M) AppleWebKit/537.36 (KHTML, like Gecko) Chrome/68.0.3440.91 Mobile Safari/537.36'\n",
      " 'Mozilla/5.0 (Linux; Android 4.4.2; H60-L04 Build/HDH60-L04) AppleWebKit/537.36 (KHTML, like Gecko) Chrome/67.0.3396.87 Mobile Safari/537.36']\n",
      "\n"
     ]
    }
   ],
   "source": [
    "# Iterate through each column\n",
    "for column in log_df.columns:\n",
    "    # Check if the column is of object type (categorical)\n",
    "    if log_df[column].dtype == 'object':\n",
    "        # Print the column name and its unique values\n",
    "        print(f\"Unique values for {column}:\\n{log_df[column].unique()}\\n\")\n"
   ]
  },
  {
   "cell_type": "code",
   "execution_count": 114,
   "id": "8766bbd6-4738-4f8a-bf6c-9425e010bc16",
   "metadata": {},
   "outputs": [
    {
     "name": "stdout",
     "output_type": "stream",
     "text": [
      "Outlier Categories: ['Opera']\n"
     ]
    }
   ],
   "source": [
    "# Sample log_df with a categorical column 'User_Agent'\n",
    "log_df_user_agent = pd.DataFrame({'User_Agent': ['Chrome', 'Firefox', 'Chrome', 'Safari', 'Edge', 'Firefox', 'Opera', 'Chrome', 'Safari', 'Edge']})\n",
    "\n",
    "# Set a threshold for the minimum count to consider a category as an outlier\n",
    "threshold = 2\n",
    "\n",
    "# Find outlier categories in the dataset\n",
    "outlier_categories = log_df_user_agent['User_Agent'].value_counts()[log_df_user_agent['User_Agent'].value_counts() < threshold].index.tolist()\n",
    "\n",
    "print(\"Outlier Categories:\", outlier_categories)\n"
   ]
  },
  {
   "cell_type": "markdown",
   "id": "166b5a1f-585e-4eda-9132-fce36ae7a4c5",
   "metadata": {},
   "source": [
    "<div style=\"background-color: #e8f3ff; border: 1px solid #aecae8; padding: 10px; border-radius: 3px;\">\n",
    "<b>Observation:</b>the code identifies categories in the 'User_Agent' column that occur less than the specified threshold (in this case, 2 times).\n",
    "</div>"
   ]
  },
  {
   "cell_type": "markdown",
   "id": "599edef5-2783-4afa-bdf0-376141cacef4",
   "metadata": {},
   "source": [
    "## Finding corelations of all data attributes"
   ]
  },
  {
   "cell_type": "code",
   "execution_count": 115,
   "id": "e769a02a-efa7-4e30-809d-9a0ee42de2cc",
   "metadata": {},
   "outputs": [
    {
     "name": "stdout",
     "output_type": "stream",
     "text": [
      "<class 'pandas.core.frame.DataFrame'>\n",
      "RangeIndex: 2863321 entries, 0 to 2863320\n",
      "Data columns (total 8 columns):\n",
      " #   Column      Dtype \n",
      "---  ------      ----- \n",
      " 0   IP          object\n",
      " 1   Timestamp   object\n",
      " 2   Method      object\n",
      " 3   Path        object\n",
      " 4   Status      object\n",
      " 5   Bytes       object\n",
      " 6   Referrer    object\n",
      " 7   User_Agent  object\n",
      "dtypes: object(8)\n",
      "memory usage: 174.8+ MB\n"
     ]
    }
   ],
   "source": [
    "log_df.info()"
   ]
  },
  {
   "cell_type": "code",
   "execution_count": 116,
   "id": "c7f3da69-b5cb-4b1b-b553-117b5bb2b7c5",
   "metadata": {},
   "outputs": [
    {
     "name": "stdout",
     "output_type": "stream",
     "text": [
      "TOP 10 POSITIVE CORRELATIONS\n",
      "IP_104.194.24.33     IP_104.194.24.33     1.000000\n",
      "Referrer_https://ww  Referrer_-           0.955281\n",
      "Path_/m/updateV      Method_POST          0.911948\n",
      "Path_/filter/st      IP_130.185.74.243    0.895064\n",
      "Method_HEAD          Path_/amp_preco      0.885120\n",
      "Method_GET           Method_HEAD          0.858717\n",
      "IP_5.78.198.52       Path_/m/updateV      0.843445\n",
      "Referrer_http://www  IP_63.143.42.246     0.815676\n",
      "Method_POST          IP_5.78.198.52       0.768547\n",
      "Method_GET           Path_/amp_preco      0.760068\n",
      "dtype: float64\n",
      "TOP 10 NEGATIVE CORRELATIONS\n",
      "Path_/filter/p6      IP_66.249.66.194    0.000388\n",
      "Status_301           Referrer_-          0.001247\n",
      "IP_207.46.13.104     Path_/product/1     0.001839\n",
      "IP_66.249.83.7       IP_54.36.148.114    0.002004\n",
      "IP_54.36.149.97      IP_66.249.83.7      0.002004\n",
      "Path_/filter/62      Path_/filter/79     0.002004\n",
      "IP_66.249.83.1       IP_54.36.148.100    0.002004\n",
      "IP_46.229.161.131    Path_/blog/digi     0.002004\n",
      "Path_/m/search?      Path_/browse/sp     0.002004\n",
      "Referrer_http://zan  IP_54.36.148.159    0.002004\n",
      "dtype: float64\n"
     ]
    },
    {
     "name": "stderr",
     "output_type": "stream",
     "text": [
      "/var/folders/g9/s48bv0w94ybdvpx5z5zxdswh0000gn/T/ipykernel_43814/698218507.py:31: SettingWithCopyWarning: \n",
      "A value is trying to be set on a copy of a slice from a DataFrame.\n",
      "Try using .loc[row_indexer,col_indexer] = value instead\n",
      "\n",
      "See the caveats in the documentation: https://pandas.pydata.org/pandas-docs/stable/user_guide/indexing.html#returning-a-view-versus-a-copy\n",
      "  log_df_subset['Path'] = log_df_subset['Path'].str[:10]\n",
      "/var/folders/g9/s48bv0w94ybdvpx5z5zxdswh0000gn/T/ipykernel_43814/698218507.py:32: SettingWithCopyWarning: \n",
      "A value is trying to be set on a copy of a slice from a DataFrame.\n",
      "Try using .loc[row_indexer,col_indexer] = value instead\n",
      "\n",
      "See the caveats in the documentation: https://pandas.pydata.org/pandas-docs/stable/user_guide/indexing.html#returning-a-view-versus-a-copy\n",
      "  log_df_subset['Referrer'] = log_df_subset['Referrer'].str[:10]\n",
      "/var/folders/g9/s48bv0w94ybdvpx5z5zxdswh0000gn/T/ipykernel_43814/698218507.py:33: SettingWithCopyWarning: \n",
      "A value is trying to be set on a copy of a slice from a DataFrame.\n",
      "Try using .loc[row_indexer,col_indexer] = value instead\n",
      "\n",
      "See the caveats in the documentation: https://pandas.pydata.org/pandas-docs/stable/user_guide/indexing.html#returning-a-view-versus-a-copy\n",
      "  log_df_subset['User_Agent'] = log_df_subset['User_Agent'].str[:10]\n"
     ]
    }
   ],
   "source": [
    "def visualize_top_correlations(data, top_n=10, sample_size=500):\n",
    "    # Select relevant columns\n",
    "    columns_to_visualize = ['IP', 'Method', 'Path', 'Status', 'Referrer', 'User_Agent']\n",
    "    data_subset = data[columns_to_visualize]\n",
    "\n",
    "    # Sample the data for visualization (adjust sample_size as needed)\n",
    "    data_sample = data_subset.sample(min(sample_size, len(data_subset)))\n",
    "\n",
    "    # One-hot encode categorical columns\n",
    "    data_encoded = pd.get_dummies(data_sample, columns=columns_to_visualize)\n",
    "\n",
    "    # Compute correlation matrix\n",
    "    corr_matrix = data_encoded.corr()\n",
    "\n",
    "    # Get top positive correlations\n",
    "    top_positive_corr = (corr_matrix.abs().unstack().sort_values(ascending=False)\n",
    "                         .drop_duplicates().head(top_n))\n",
    "    print('TOP 10 POSITIVE CORRELATIONS')\n",
    "    print(top_positive_corr)  \n",
    "    # Get top negative correlations\n",
    "    top_negative_corr = (corr_matrix.abs().unstack().sort_values(ascending=True)\n",
    "                         .drop_duplicates().head(top_n))\n",
    "\n",
    "    print('TOP 10 NEGATIVE CORRELATIONS')\n",
    "    print(top_negative_corr)  \n",
    "\n",
    "# Assuming log_df is your DataFrame\n",
    "log_df_subset = log_df.head(1000)\n",
    "\n",
    "# Truncate long strings in 'Path', 'Referrer', and 'User_Agent' to the first 10 characters\n",
    "log_df_subset['Path'] = log_df_subset['Path'].str[:10]\n",
    "log_df_subset['Referrer'] = log_df_subset['Referrer'].str[:10]\n",
    "log_df_subset['User_Agent'] = log_df_subset['User_Agent'].str[:10]\n",
    "\n",
    "# Visualize only the top 10 correlations for simplicity\n",
    "visualize_top_correlations(log_df_subset, top_n=10)\n"
   ]
  },
  {
   "cell_type": "markdown",
   "id": "996270ca-15b7-4381-b36b-eec014bfd374",
   "metadata": {},
   "source": [
    "# Data Preparation\n"
   ]
  },
  {
   "cell_type": "markdown",
   "id": "c4c1ed56-0ab6-4b30-8a99-3568e02cfeda",
   "metadata": {},
   "source": [
    "## Data Cleaning"
   ]
  },
  {
   "cell_type": "markdown",
   "id": "054e4d3d-f60e-4f57-8077-ff1e00dfc176",
   "metadata": {},
   "source": [
    "### Handling Missing Values"
   ]
  },
  {
   "cell_type": "code",
   "execution_count": 117,
   "id": "fa09e9fd-b7e1-4369-9a51-4f27ca8a4260",
   "metadata": {},
   "outputs": [
    {
     "name": "stdout",
     "output_type": "stream",
     "text": [
      "Unique Timestamps in Missing Rows:\n",
      "[nan]\n"
     ]
    }
   ],
   "source": [
    "# Identify rows with missing values\n",
    "missing_rows = log_df[log_df.isnull().any(axis=1)]\n",
    "\n",
    "# Extract and examine timestamps of the missing rows\n",
    "missing_timestamps = missing_rows['Timestamp']\n",
    "\n",
    "# Display unique timestamps in the missing rows\n",
    "unique_timestamps = missing_timestamps.unique()\n",
    "print(\"Unique Timestamps in Missing Rows:\")\n",
    "print(unique_timestamps)"
   ]
  },
  {
   "cell_type": "code",
   "execution_count": 118,
   "id": "8162a726-7037-4c3b-9be8-cf98daf37245",
   "metadata": {},
   "outputs": [
    {
     "name": "stdout",
     "output_type": "stream",
     "text": [
      "IP            0\n",
      "Timestamp     0\n",
      "Method        0\n",
      "Path          0\n",
      "Status        0\n",
      "Bytes         0\n",
      "Referrer      0\n",
      "User_Agent    0\n",
      "dtype: int64\n"
     ]
    }
   ],
   "source": [
    "# Drop rows with missing values that share the same timestamp\n",
    "log_df = log_df.drop_duplicates(subset=['Timestamp'], keep=False)\n",
    "null_counts = log_df.isnull().sum()\n",
    "print(null_counts)"
   ]
  },
  {
   "cell_type": "markdown",
   "id": "fe62f241-ea19-458b-94cf-59a7fccc4035",
   "metadata": {},
   "source": [
    "### Parsing Timestamps"
   ]
  },
  {
   "cell_type": "code",
   "execution_count": 119,
   "id": "2b6abac2-1e74-4a4f-a4e7-f41ca7302724",
   "metadata": {},
   "outputs": [],
   "source": [
    "# Step 1: Feature Engineering\n",
    "log_df['Timestamp'] = pd.to_datetime(log_df['Timestamp'], format='%d/%b/%Y:%H:%M:%S %z')\n",
    "log_df = log_df.sort_values(by='Timestamp')  # Ensure data is sorted by timestamp"
   ]
  },
  {
   "cell_type": "markdown",
   "id": "a21909ff-1d7f-4137-af30-061d445ef1b5",
   "metadata": {},
   "source": [
    "### Finding Error Counts"
   ]
  },
  {
   "cell_type": "code",
   "execution_count": 120,
   "id": "338469b1-933f-42af-9406-5433ab612e05",
   "metadata": {},
   "outputs": [],
   "source": [
    "log_df['ErrorCount'] = log_df['Status'].apply(lambda x: 1 if x != 200 else 0)\n",
    "log_df['RollingErrorCount'] = log_df['ErrorCount'].rolling(window=12).sum()"
   ]
  },
  {
   "cell_type": "markdown",
   "id": "0cae52f0-f884-4a7c-ad59-14b04ed59121",
   "metadata": {},
   "source": [
    "### Handling Outliers\n",
    "### Rate Limiting"
   ]
  },
  {
   "cell_type": "code",
   "execution_count": 121,
   "id": "d5c2f09f-8b34-4b92-9f04-0c029ea304b3",
   "metadata": {},
   "outputs": [
    {
     "name": "stdout",
     "output_type": "stream",
     "text": [
      "784\n"
     ]
    }
   ],
   "source": [
    "from datetime import datetime, timedelta\n",
    "\n",
    "your_threshold_seconds = 60\n",
    "# Extract relevant features\n",
    "log_df['Timestamp'] = pd.to_datetime(log_df['Timestamp'], format='%d/%b/%Y:%H:%M:%S %z')  # Convert timestamp to datetime\n",
    "log_df['Date'] = log_df['Timestamp'].dt.date  # Extract date from timestamp\n",
    "\n",
    "# Calculate time difference between consecutive requests for each IP\n",
    "log_df['Time_Diff'] = log_df.groupby('IP')['Timestamp'].diff()\n",
    "\n",
    "# Identify IPs with high request rates\n",
    "high_request_ips = log_df[log_df['Time_Diff'] < timedelta(seconds=your_threshold_seconds)]['IP'].unique()\n",
    "print(len(high_request_ips))"
   ]
  },
  {
   "cell_type": "markdown",
   "id": "baa940e8-d8f9-4995-92f5-fcd0da5ed1df",
   "metadata": {},
   "source": [
    "<div style=\"background-color: #e8f3ff; border: 1px solid #aecae8; padding: 10px; border-radius: 3px;\">\n",
    "<b>Observation:</b> Identify IP addresses that generate a high volume of requests in a short time. This could indicate a potential denial-of-service (DoS) attack.\n",
    "</div>\n"
   ]
  },
  {
   "cell_type": "markdown",
   "id": "7f2ee3ef-2da0-45dd-a17f-f401064662b3",
   "metadata": {},
   "source": [
    "# Data Analysis"
   ]
  },
  {
   "cell_type": "markdown",
   "id": "bcd54a0e-cb8b-4c97-bd0d-a97c6ae3d847",
   "metadata": {},
   "source": [
    "## Visitor Analysis\n",
    "### Unique Visitors"
   ]
  },
  {
   "cell_type": "code",
   "execution_count": 122,
   "id": "5e1c34b4-279f-41d5-b078-7f5b77068db4",
   "metadata": {},
   "outputs": [
    {
     "name": "stdout",
     "output_type": "stream",
     "text": [
      "Unique Visitors: 5298\n"
     ]
    }
   ],
   "source": [
    "unique_visitors = log_df['IP'].nunique()\n",
    "print(f'Unique Visitors: {unique_visitors}')\n"
   ]
  },
  {
   "cell_type": "code",
   "execution_count": 155,
   "id": "5bce7537-8050-4880-af7b-350a9d3db97a",
   "metadata": {},
   "outputs": [
    {
     "data": {
      "image/png": "[encoded data removed]",
      "text/plain": [
       "<Figure size 1000x600 with 1 Axes>"
      ]
     },
     "metadata": {},
     "output_type": "display_data"
    }
   ],
   "source": [
    "# Get the top 10 visitors\n",
    "top_visitors = log_df['IP'].value_counts().nlargest(10)\n",
    "\n",
    "# Plot the bar chart\n",
    "plt.figure(figsize=(10, 6))\n",
    "sns.barplot(x=top_visitors.values, y=top_visitors.index, palette='viridis')\n",
    "plt.title('Top 10 Visitors')\n",
    "plt.xlabel('Count')\n",
    "plt.ylabel('IP Address')\n",
    "plt.savefig('images/unique_visitors.png')\n",
    "plt.show()\n"
   ]
  },
  {
   "cell_type": "markdown",
   "id": "4052c744-278b-4b18-80d5-fb3ca20949f1",
   "metadata": {},
   "source": [
    "##  Behavior Analysis\n",
    "### Popular Pages"
   ]
  },
  {
   "cell_type": "code",
   "execution_count": 139,
   "id": "ef323ada-005e-44a9-b5c6-1dca5f9b82a6",
   "metadata": {},
   "outputs": [
    {
     "name": "stdout",
     "output_type": "stream",
     "text": [
      "Top 5 Popular Pages:\n",
      " /settings/logo                                                                                                             1376\n",
      "/static/css/font/wyekan/font.woff                                                                                          1192\n",
      "/                                                                                                                           695\n",
      "/favicon.ico                                                                                                                572\n",
      "/amp-helper-frame.html?appId=a624a1c1-0c93-466a-a546-e146710f97e6&parentOrigin=https://www-zanbil-ir.cdn.ampproject.org     353\n",
      "Name: Path, dtype: int64\n"
     ]
    }
   ],
   "source": [
    "import matplotlib.pyplot as plt\n",
    "import seaborn as sns\n",
    "\n",
    "# Get the top 5 popular pages\n",
    "top_pages = log_df['Path'].value_counts().head(5)\n",
    "\n",
    "# Plot the bar chart\n",
    "plt.figure(figsize=(10, 6))\n",
    "sns.barplot(x=top_pages.values, y=top_pages.index, palette='viridis')\n",
    "plt.title('Top 5 Popular Pages')\n",
    "plt.xlabel('Count')\n",
    "plt.ylabel('Page Path')\n",
    "plt.savefig('images/popularpage.png')\n",
    "plt.show()\n"
   ]
  },
  {
   "cell_type": "markdown",
   "id": "cae65a92-ccd2-41c9-9310-3246eb1626fc",
   "metadata": {},
   "source": [
    "### User Agents"
   ]
  },
  {
   "cell_type": "code",
   "execution_count": 125,
   "id": "ce81b70c-5506-4bc5-a829-3ed84cb9bd24",
   "metadata": {},
   "outputs": [
    {
     "name": "stdout",
     "output_type": "stream",
     "text": [
      "Top 5 User Agents:\n",
      " Mozilla/5.0 (compatible; Googlebot/2.1; +http://www.google.com/bot.html)                                                                                                                                  5056\n",
      "Mozilla/5.0 (Linux; Android 6.0.1; Nexus 5X Build/MMB29P) AppleWebKit/537.36 (KHTML, like Gecko) Chrome/41.0.2272.96 Mobile Safari/537.36 (compatible; Googlebot/2.1; +http://www.google.com/bot.html)    4356\n",
      "Mozilla/5.0 (compatible; bingbot/2.0; +http://www.bing.com/bingbot.htm)                                                                                                                                   3673\n",
      "Mozilla/5.0 (compatible; AhrefsBot/6.1; +http://ahrefs.com/robot/)                                                                                                                                         944\n",
      "Mozilla/5.0 (Windows NT 6.2; Win64; x64; rv:16.0)Gecko/16.0 Firefox/16.0                                                                                                                                   609\n",
      "Name: User_Agent, dtype: int64\n"
     ]
    }
   ],
   "source": [
    "user_agents = log_df['User_Agent'].value_counts().head(5)\n",
    "print('Top 5 User Agents:\\n', user_agents)\n"
   ]
  },
  {
   "cell_type": "markdown",
   "id": "c4184992-0acb-42bf-9944-510564c4f7d8",
   "metadata": {},
   "source": [
    "### Referrer Analysis\n"
   ]
  },
  {
   "cell_type": "code",
   "execution_count": 126,
   "id": "7d5c752d-a00d-454a-858f-d38f21b85acf",
   "metadata": {},
   "outputs": [
    {
     "name": "stdout",
     "output_type": "stream",
     "text": [
      "Top 5 Referrers:\n",
      " -                          17480\n",
      "https://www.google.com/      351\n",
      "http://www.zanbil.ir/        284\n",
      "https://www.zanbil.ir/       161\n",
      "http://www.zanbil.ir         158\n",
      "Name: Referrer, dtype: int64\n"
     ]
    }
   ],
   "source": [
    "referrer_analysis = log_df['Referrer'].value_counts().head(5)\n",
    "print('Top 5 Referrers:\\n', referrer_analysis)\n"
   ]
  },
  {
   "cell_type": "markdown",
   "id": "ccfb575a-d673-48b1-b134-7e4b64db3aa0",
   "metadata": {},
   "source": [
    "### User behavior analysis"
   ]
  },
  {
   "cell_type": "code",
   "execution_count": 153,
   "id": "6f088967-9ae5-4624-8625-68b74e0f3b4a",
   "metadata": {},
   "outputs": [
    {
     "name": "stdout",
     "output_type": "stream",
     "text": [
      "User Activity Summary:\n",
      "\n"
     ]
    },
    {
     "data": {
      "text/html": [
       "<div>\n",
       "<style scoped>\n",
       "    .dataframe tbody tr th:only-of-type {\n",
       "        vertical-align: middle;\n",
       "    }\n",
       "\n",
       "    .dataframe tbody tr th {\n",
       "        vertical-align: top;\n",
       "    }\n",
       "\n",
       "    .dataframe thead th {\n",
       "        text-align: right;\n",
       "    }\n",
       "</style>\n",
       "<table border=\"1\" class=\"dataframe\">\n",
       "  <thead>\n",
       "    <tr style=\"text-align: right;\">\n",
       "      <th></th>\n",
       "      <th>IP</th>\n",
       "      <th>mean</th>\n",
       "      <th>std</th>\n",
       "      <th>max</th>\n",
       "      <th>min</th>\n",
       "    </tr>\n",
       "  </thead>\n",
       "  <tbody>\n",
       "    <tr>\n",
       "      <th>0</th>\n",
       "      <td>1.132.107.223</td>\n",
       "      <td>1.0</td>\n",
       "      <td>NaN</td>\n",
       "      <td>1</td>\n",
       "      <td>1</td>\n",
       "    </tr>\n",
       "    <tr>\n",
       "      <th>1</th>\n",
       "      <td>1.158.74.178</td>\n",
       "      <td>1.0</td>\n",
       "      <td>NaN</td>\n",
       "      <td>1</td>\n",
       "      <td>1</td>\n",
       "    </tr>\n",
       "    <tr>\n",
       "      <th>2</th>\n",
       "      <td>1.234.99.77</td>\n",
       "      <td>1.0</td>\n",
       "      <td>NaN</td>\n",
       "      <td>1</td>\n",
       "      <td>1</td>\n",
       "    </tr>\n",
       "    <tr>\n",
       "      <th>3</th>\n",
       "      <td>10.114.97.227</td>\n",
       "      <td>2.0</td>\n",
       "      <td>NaN</td>\n",
       "      <td>2</td>\n",
       "      <td>2</td>\n",
       "    </tr>\n",
       "    <tr>\n",
       "      <th>4</th>\n",
       "      <td>10.122.122.244</td>\n",
       "      <td>1.0</td>\n",
       "      <td>NaN</td>\n",
       "      <td>1</td>\n",
       "      <td>1</td>\n",
       "    </tr>\n",
       "  </tbody>\n",
       "</table>\n",
       "</div>"
      ],
      "text/plain": [
       "               IP  mean  std  max  min\n",
       "0   1.132.107.223   1.0  NaN    1    1\n",
       "1    1.158.74.178   1.0  NaN    1    1\n",
       "2     1.234.99.77   1.0  NaN    1    1\n",
       "3   10.114.97.227   2.0  NaN    2    2\n",
       "4  10.122.122.244   1.0  NaN    1    1"
      ]
     },
     "execution_count": 153,
     "metadata": {},
     "output_type": "execute_result"
    }
   ],
   "source": [
    "\n",
    "# Extract relevant features\n",
    "log_df['Timestamp'] = pd.to_datetime(log_df['Timestamp'], format='%d/%b/%Y:%H:%M:%S %z')  # Convert timestamp to datetime\n",
    "log_df['Date'] = log_df['Timestamp'].dt.date  # Extract date from timestamp\n",
    "\n",
    "# User activity per day\n",
    "user_activity_per_day = log_df.groupby(['IP', 'Date']).size().reset_index(name='ActivityCount')\n",
    "\n",
    "# User activity summary\n",
    "user_activity_summary = user_activity_per_day.groupby('IP')['ActivityCount'].agg(['mean', 'std', 'max', 'min']).reset_index()\n",
    "\n",
    "# Display the user activity summary\n",
    "print('User Activity Summary:\\n') \n",
    "user_activity_summary.head()\n"
   ]
  },
  {
   "cell_type": "markdown",
   "id": "6771cab2-aa8b-45ec-ad06-21c786b381bd",
   "metadata": {},
   "source": [
    "## Crawler Detection\n",
    "### Identify Crawlers"
   ]
  },
  {
   "cell_type": "code",
   "execution_count": 152,
   "id": "c91bef4a-5eba-402e-8a3b-a51074c15c16",
   "metadata": {},
   "outputs": [
    {
     "name": "stdout",
     "output_type": "stream",
     "text": [
      "Crawlers:\n",
      "\n"
     ]
    },
    {
     "data": {
      "text/html": [
       "<div>\n",
       "<style scoped>\n",
       "    .dataframe tbody tr th:only-of-type {\n",
       "        vertical-align: middle;\n",
       "    }\n",
       "\n",
       "    .dataframe tbody tr th {\n",
       "        vertical-align: top;\n",
       "    }\n",
       "\n",
       "    .dataframe thead th {\n",
       "        text-align: right;\n",
       "    }\n",
       "</style>\n",
       "<table border=\"1\" class=\"dataframe\">\n",
       "  <thead>\n",
       "    <tr style=\"text-align: right;\">\n",
       "      <th></th>\n",
       "      <th>IP</th>\n",
       "      <th>Timestamp</th>\n",
       "      <th>Method</th>\n",
       "      <th>Path</th>\n",
       "      <th>Status</th>\n",
       "      <th>Bytes</th>\n",
       "      <th>Referrer</th>\n",
       "      <th>User_Agent</th>\n",
       "      <th>ErrorCount</th>\n",
       "      <th>RollingErrorCount</th>\n",
       "      <th>Date</th>\n",
       "      <th>Time_Diff</th>\n",
       "      <th>IncreasedErrors</th>\n",
       "      <th>IsOutlier</th>\n",
       "      <th>tokens</th>\n",
       "      <th>text</th>\n",
       "      <th>Label</th>\n",
       "    </tr>\n",
       "  </thead>\n",
       "  <tbody>\n",
       "    <tr>\n",
       "      <th>0</th>\n",
       "      <td>54.36.149.41</td>\n",
       "      <td>2019-01-22 03:56:14+03:30</td>\n",
       "      <td>GET</td>\n",
       "      <td>/filter/27|13%20%D9%85%DA%AF%D8%A7%D9%BE%DB%8C...</td>\n",
       "      <td>200</td>\n",
       "      <td>30577</td>\n",
       "      <td>-</td>\n",
       "      <td>Mozilla/5.0 (compatible; AhrefsBot/6.1; +http:...</td>\n",
       "      <td>1</td>\n",
       "      <td>NaN</td>\n",
       "      <td>2019-01-22</td>\n",
       "      <td>NaT</td>\n",
       "      <td>0</td>\n",
       "      <td>1</td>\n",
       "      <td>[20, d9, 85, da, af, d8, a7, d9, db, 8c, da, a...</td>\n",
       "      <td>20 d9 85 da af d8 a7 d9 db 8c da a9 d8 b3 d9 d...</td>\n",
       "      <td>0</td>\n",
       "    </tr>\n",
       "    <tr>\n",
       "      <th>19</th>\n",
       "      <td>66.249.66.194</td>\n",
       "      <td>2019-01-22 03:56:23+03:30</td>\n",
       "      <td>GET</td>\n",
       "      <td>/product/81900</td>\n",
       "      <td>404</td>\n",
       "      <td>32278</td>\n",
       "      <td>-</td>\n",
       "      <td>Mozilla/5.0 (compatible; Googlebot/2.1; +http:...</td>\n",
       "      <td>1</td>\n",
       "      <td>NaN</td>\n",
       "      <td>2019-01-22</td>\n",
       "      <td>NaT</td>\n",
       "      <td>0</td>\n",
       "      <td>-1</td>\n",
       "      <td>[]</td>\n",
       "      <td></td>\n",
       "      <td>0</td>\n",
       "    </tr>\n",
       "    <tr>\n",
       "      <th>48</th>\n",
       "      <td>66.249.66.91</td>\n",
       "      <td>2019-01-22 03:56:39+03:30</td>\n",
       "      <td>GET</td>\n",
       "      <td>/filter/b656%2Cb703%2Cb67%2Cb226%2Cb41%2Cb598%...</td>\n",
       "      <td>200</td>\n",
       "      <td>41513</td>\n",
       "      <td>-</td>\n",
       "      <td>Mozilla/5.0 (compatible; Googlebot/2.1; +http:...</td>\n",
       "      <td>1</td>\n",
       "      <td>NaN</td>\n",
       "      <td>2019-01-22</td>\n",
       "      <td>NaT</td>\n",
       "      <td>0</td>\n",
       "      <td>1</td>\n",
       "      <td>[2cb703, 2cb67, 2cb226, 2cb41, 2cb598, 2cb168,...</td>\n",
       "      <td>2cb703 2cb67 2cb226 2cb41 2cb598 2cb168 2cb723...</td>\n",
       "      <td>0</td>\n",
       "    </tr>\n",
       "    <tr>\n",
       "      <th>51</th>\n",
       "      <td>207.46.13.136</td>\n",
       "      <td>2019-01-22 03:56:41+03:30</td>\n",
       "      <td>GET</td>\n",
       "      <td>/filter/p5935%2Cb543</td>\n",
       "      <td>200</td>\n",
       "      <td>35701</td>\n",
       "      <td>-</td>\n",
       "      <td>Mozilla/5.0 (compatible; bingbot/2.0; +http://...</td>\n",
       "      <td>1</td>\n",
       "      <td>NaN</td>\n",
       "      <td>2019-01-22</td>\n",
       "      <td>NaT</td>\n",
       "      <td>0</td>\n",
       "      <td>1</td>\n",
       "      <td>[2cb543]</td>\n",
       "      <td>2cb543</td>\n",
       "      <td>0</td>\n",
       "    </tr>\n",
       "    <tr>\n",
       "      <th>53</th>\n",
       "      <td>207.46.13.136</td>\n",
       "      <td>2019-01-22 03:56:43+03:30</td>\n",
       "      <td>GET</td>\n",
       "      <td>/product/21766?model=46248</td>\n",
       "      <td>200</td>\n",
       "      <td>40464</td>\n",
       "      <td>-</td>\n",
       "      <td>Mozilla/5.0 (compatible; bingbot/2.0; +http://...</td>\n",
       "      <td>1</td>\n",
       "      <td>NaN</td>\n",
       "      <td>2019-01-22</td>\n",
       "      <td>0 days 00:00:02</td>\n",
       "      <td>0</td>\n",
       "      <td>1</td>\n",
       "      <td>[]</td>\n",
       "      <td></td>\n",
       "      <td>0</td>\n",
       "    </tr>\n",
       "  </tbody>\n",
       "</table>\n",
       "</div>"
      ],
      "text/plain": [
       "               IP                 Timestamp Method  \\\n",
       "0    54.36.149.41 2019-01-22 03:56:14+03:30    GET   \n",
       "19  66.249.66.194 2019-01-22 03:56:23+03:30    GET   \n",
       "48   66.249.66.91 2019-01-22 03:56:39+03:30    GET   \n",
       "51  207.46.13.136 2019-01-22 03:56:41+03:30    GET   \n",
       "53  207.46.13.136 2019-01-22 03:56:43+03:30    GET   \n",
       "\n",
       "                                                 Path Status  Bytes Referrer  \\\n",
       "0   /filter/27|13%20%D9%85%DA%AF%D8%A7%D9%BE%DB%8C...    200  30577        -   \n",
       "19                                     /product/81900    404  32278        -   \n",
       "48  /filter/b656%2Cb703%2Cb67%2Cb226%2Cb41%2Cb598%...    200  41513        -   \n",
       "51                               /filter/p5935%2Cb543    200  35701        -   \n",
       "53                         /product/21766?model=46248    200  40464        -   \n",
       "\n",
       "                                           User_Agent  ErrorCount  \\\n",
       "0   Mozilla/5.0 (compatible; AhrefsBot/6.1; +http:...           1   \n",
       "19  Mozilla/5.0 (compatible; Googlebot/2.1; +http:...           1   \n",
       "48  Mozilla/5.0 (compatible; Googlebot/2.1; +http:...           1   \n",
       "51  Mozilla/5.0 (compatible; bingbot/2.0; +http://...           1   \n",
       "53  Mozilla/5.0 (compatible; bingbot/2.0; +http://...           1   \n",
       "\n",
       "    RollingErrorCount        Date       Time_Diff  IncreasedErrors  IsOutlier  \\\n",
       "0                 NaN  2019-01-22             NaT                0          1   \n",
       "19                NaN  2019-01-22             NaT                0         -1   \n",
       "48                NaN  2019-01-22             NaT                0          1   \n",
       "51                NaN  2019-01-22             NaT                0          1   \n",
       "53                NaN  2019-01-22 0 days 00:00:02                0          1   \n",
       "\n",
       "                                               tokens  \\\n",
       "0   [20, d9, 85, da, af, d8, a7, d9, db, 8c, da, a...   \n",
       "19                                                 []   \n",
       "48  [2cb703, 2cb67, 2cb226, 2cb41, 2cb598, 2cb168,...   \n",
       "51                                           [2cb543]   \n",
       "53                                                 []   \n",
       "\n",
       "                                                 text  Label  \n",
       "0   20 d9 85 da af d8 a7 d9 db 8c da a9 d8 b3 d9 d...      0  \n",
       "19                                                         0  \n",
       "48  2cb703 2cb67 2cb226 2cb41 2cb598 2cb168 2cb723...      0  \n",
       "51                                             2cb543      0  \n",
       "53                                                         0  "
      ]
     },
     "execution_count": 152,
     "metadata": {},
     "output_type": "execute_result"
    }
   ],
   "source": [
    "# Fill missing values in the 'User_Agent' column with an empty string\n",
    "log_df['User_Agent'].fillna('', inplace=True)\n",
    "\n",
    "# Extract crawlers based on 'User_Agent'\n",
    "crawlers = log_df[log_df['User_Agent'].str.contains('bot|crawl|spider', case=False, na=False)]\n",
    "print('Crawlers:\\n')\n",
    "crawlers.head()\n"
   ]
  },
  {
   "cell_type": "markdown",
   "id": "f97084f9-b410-4be8-8a98-adbe7f1296a1",
   "metadata": {},
   "source": [
    "## Security Insights\n",
    "### Identify Suspicious Requests"
   ]
  },
  {
   "cell_type": "code",
   "execution_count": 150,
   "id": "27f8ef0c-6e42-4bd9-b032-7e18839b8a5b",
   "metadata": {},
   "outputs": [
    {
     "name": "stdout",
     "output_type": "stream",
     "text": [
      "Suspicious Requests:\n",
      "\n"
     ]
    },
    {
     "data": {
      "text/html": [
       "<div>\n",
       "<style scoped>\n",
       "    .dataframe tbody tr th:only-of-type {\n",
       "        vertical-align: middle;\n",
       "    }\n",
       "\n",
       "    .dataframe tbody tr th {\n",
       "        vertical-align: top;\n",
       "    }\n",
       "\n",
       "    .dataframe thead th {\n",
       "        text-align: right;\n",
       "    }\n",
       "</style>\n",
       "<table border=\"1\" class=\"dataframe\">\n",
       "  <thead>\n",
       "    <tr style=\"text-align: right;\">\n",
       "      <th></th>\n",
       "      <th>IP</th>\n",
       "      <th>Timestamp</th>\n",
       "      <th>Method</th>\n",
       "      <th>Path</th>\n",
       "      <th>Status</th>\n",
       "      <th>Bytes</th>\n",
       "      <th>Referrer</th>\n",
       "      <th>User_Agent</th>\n",
       "      <th>ErrorCount</th>\n",
       "      <th>RollingErrorCount</th>\n",
       "      <th>Date</th>\n",
       "      <th>Time_Diff</th>\n",
       "      <th>IncreasedErrors</th>\n",
       "      <th>IsOutlier</th>\n",
       "      <th>tokens</th>\n",
       "      <th>text</th>\n",
       "      <th>Label</th>\n",
       "    </tr>\n",
       "  </thead>\n",
       "  <tbody>\n",
       "    <tr>\n",
       "      <th>3152</th>\n",
       "      <td>207.46.13.136</td>\n",
       "      <td>2019-01-22 04:16:00+03:30</td>\n",
       "      <td>GET</td>\n",
       "      <td>/login/auth?forwardUri=%2Ffilter%2Fp1422%2Cb132</td>\n",
       "      <td>200</td>\n",
       "      <td>34461</td>\n",
       "      <td>-</td>\n",
       "      <td>Mozilla/5.0 (compatible; bingbot/2.0; +http://...</td>\n",
       "      <td>1</td>\n",
       "      <td>12.0</td>\n",
       "      <td>2019-01-22</td>\n",
       "      <td>0 days 00:00:19</td>\n",
       "      <td>1</td>\n",
       "      <td>1</td>\n",
       "      <td>[2ffilter, 2fp1422, 2cb132]</td>\n",
       "      <td>2ffilter 2fp1422 2cb132</td>\n",
       "      <td>1</td>\n",
       "    </tr>\n",
       "    <tr>\n",
       "      <th>4328</th>\n",
       "      <td>207.46.13.136</td>\n",
       "      <td>2019-01-22 04:25:41+03:30</td>\n",
       "      <td>GET</td>\n",
       "      <td>/login/auth?forwardUri=%2Ffilter%2Fp5665%2Cb249</td>\n",
       "      <td>200</td>\n",
       "      <td>33260</td>\n",
       "      <td>-</td>\n",
       "      <td>Mozilla/5.0 (compatible; bingbot/2.0; +http://...</td>\n",
       "      <td>1</td>\n",
       "      <td>12.0</td>\n",
       "      <td>2019-01-22</td>\n",
       "      <td>0 days 00:00:14</td>\n",
       "      <td>1</td>\n",
       "      <td>1</td>\n",
       "      <td>[2ffilter, 2fp5665, 2cb249]</td>\n",
       "      <td>2ffilter 2fp5665 2cb249</td>\n",
       "      <td>1</td>\n",
       "    </tr>\n",
       "    <tr>\n",
       "      <th>8447</th>\n",
       "      <td>54.36.148.59</td>\n",
       "      <td>2019-01-22 04:55:16+03:30</td>\n",
       "      <td>GET</td>\n",
       "      <td>/login/auth?forwardUri=%2Ffilter%2Fb206%2Cb284...</td>\n",
       "      <td>200</td>\n",
       "      <td>33200</td>\n",
       "      <td>-</td>\n",
       "      <td>Mozilla/5.0 (compatible; AhrefsBot/6.1; +http:...</td>\n",
       "      <td>1</td>\n",
       "      <td>12.0</td>\n",
       "      <td>2019-01-22</td>\n",
       "      <td>NaT</td>\n",
       "      <td>1</td>\n",
       "      <td>1</td>\n",
       "      <td>[2ffilter, 2fb206, 2cb284, 2cp6446, 2cstexists]</td>\n",
       "      <td>2ffilter 2fb206 2cb284 2cp6446 2cstexists</td>\n",
       "      <td>1</td>\n",
       "    </tr>\n",
       "    <tr>\n",
       "      <th>18138</th>\n",
       "      <td>40.77.167.13</td>\n",
       "      <td>2019-01-22 05:59:02+03:30</td>\n",
       "      <td>GET</td>\n",
       "      <td>/login/auth?forwardUri=%2Ffilter%2Fb36%2Cp4</td>\n",
       "      <td>200</td>\n",
       "      <td>33189</td>\n",
       "      <td>-</td>\n",
       "      <td>Mozilla/5.0 (compatible; bingbot/2.0; +http://...</td>\n",
       "      <td>1</td>\n",
       "      <td>12.0</td>\n",
       "      <td>2019-01-22</td>\n",
       "      <td>0 days 00:00:06</td>\n",
       "      <td>1</td>\n",
       "      <td>1</td>\n",
       "      <td>[2ffilter, 2fb36, 2cp4]</td>\n",
       "      <td>2ffilter 2fb36 2cp4</td>\n",
       "      <td>1</td>\n",
       "    </tr>\n",
       "    <tr>\n",
       "      <th>21483</th>\n",
       "      <td>40.77.167.13</td>\n",
       "      <td>2019-01-22 06:19:37+03:30</td>\n",
       "      <td>GET</td>\n",
       "      <td>/login/auth?forwardUri=%2Ffilter%2Fb50%2Cp24</td>\n",
       "      <td>200</td>\n",
       "      <td>33257</td>\n",
       "      <td>-</td>\n",
       "      <td>Mozilla/5.0 (compatible; bingbot/2.0; +http://...</td>\n",
       "      <td>1</td>\n",
       "      <td>12.0</td>\n",
       "      <td>2019-01-22</td>\n",
       "      <td>0 days 00:00:59</td>\n",
       "      <td>1</td>\n",
       "      <td>1</td>\n",
       "      <td>[2ffilter, 2fb50, 2cp24]</td>\n",
       "      <td>2ffilter 2fb50 2cp24</td>\n",
       "      <td>1</td>\n",
       "    </tr>\n",
       "  </tbody>\n",
       "</table>\n",
       "</div>"
      ],
      "text/plain": [
       "                  IP                 Timestamp Method  \\\n",
       "3152   207.46.13.136 2019-01-22 04:16:00+03:30    GET   \n",
       "4328   207.46.13.136 2019-01-22 04:25:41+03:30    GET   \n",
       "8447    54.36.148.59 2019-01-22 04:55:16+03:30    GET   \n",
       "18138   40.77.167.13 2019-01-22 05:59:02+03:30    GET   \n",
       "21483   40.77.167.13 2019-01-22 06:19:37+03:30    GET   \n",
       "\n",
       "                                                    Path Status  Bytes  \\\n",
       "3152     /login/auth?forwardUri=%2Ffilter%2Fp1422%2Cb132    200  34461   \n",
       "4328     /login/auth?forwardUri=%2Ffilter%2Fp5665%2Cb249    200  33260   \n",
       "8447   /login/auth?forwardUri=%2Ffilter%2Fb206%2Cb284...    200  33200   \n",
       "18138        /login/auth?forwardUri=%2Ffilter%2Fb36%2Cp4    200  33189   \n",
       "21483       /login/auth?forwardUri=%2Ffilter%2Fb50%2Cp24    200  33257   \n",
       "\n",
       "      Referrer                                         User_Agent  ErrorCount  \\\n",
       "3152         -  Mozilla/5.0 (compatible; bingbot/2.0; +http://...           1   \n",
       "4328         -  Mozilla/5.0 (compatible; bingbot/2.0; +http://...           1   \n",
       "8447         -  Mozilla/5.0 (compatible; AhrefsBot/6.1; +http:...           1   \n",
       "18138        -  Mozilla/5.0 (compatible; bingbot/2.0; +http://...           1   \n",
       "21483        -  Mozilla/5.0 (compatible; bingbot/2.0; +http://...           1   \n",
       "\n",
       "       RollingErrorCount        Date       Time_Diff  IncreasedErrors  \\\n",
       "3152                12.0  2019-01-22 0 days 00:00:19                1   \n",
       "4328                12.0  2019-01-22 0 days 00:00:14                1   \n",
       "8447                12.0  2019-01-22             NaT                1   \n",
       "18138               12.0  2019-01-22 0 days 00:00:06                1   \n",
       "21483               12.0  2019-01-22 0 days 00:00:59                1   \n",
       "\n",
       "       IsOutlier                                           tokens  \\\n",
       "3152           1                      [2ffilter, 2fp1422, 2cb132]   \n",
       "4328           1                      [2ffilter, 2fp5665, 2cb249]   \n",
       "8447           1  [2ffilter, 2fb206, 2cb284, 2cp6446, 2cstexists]   \n",
       "18138          1                          [2ffilter, 2fb36, 2cp4]   \n",
       "21483          1                         [2ffilter, 2fb50, 2cp24]   \n",
       "\n",
       "                                            text  Label  \n",
       "3152                     2ffilter 2fp1422 2cb132      1  \n",
       "4328                     2ffilter 2fp5665 2cb249      1  \n",
       "8447   2ffilter 2fb206 2cb284 2cp6446 2cstexists      1  \n",
       "18138                        2ffilter 2fb36 2cp4      1  \n",
       "21483                       2ffilter 2fb50 2cp24      1  "
      ]
     },
     "execution_count": 150,
     "metadata": {},
     "output_type": "execute_result"
    }
   ],
   "source": [
    "# Define patterns associated with security issues\n",
    "security_patterns = [\n",
    "    r'/admin/',          # Access to admin pages\n",
    "    r'/wp-admin/',       # WordPress admin login attempts\n",
    "    r'/phpmyadmin/',     # phpMyAdmin access attempts\n",
    "    r'/login/',          # Common login attempts\n",
    "    r'/password_reset/',  # Password reset attempts\n",
    "    r'/shell/',          # Access to shell\n",
    "    r'/exploit/',        # Common exploit attempts\n",
    "    r'\\.php',            # Access to PHP files\n",
    "    r'\\.exe',            # Access to executable files\n",
    "    r'\\?cmd=',           # Command injection attempts\n",
    "    r';',                # Common in SQL injection attacks\n",
    "]\n",
    "\n",
    "# Create a boolean mask for suspicious requests based on patterns and non-200 status codes\n",
    "suspicious_mask = (log_df['Status'] != 200) & log_df['Path'].str.contains('|'.join(security_patterns), case=False, regex=True)\n",
    "\n",
    "# Filter the DataFrame to get suspicious requests\n",
    "suspicious_requests = log_df[suspicious_mask]\n",
    "\n",
    "# Display suspicious requests\n",
    "print('Suspicious Requests:\\n')\n",
    "suspicious_requests.head()\n"
   ]
  },
  {
   "cell_type": "markdown",
   "id": "217d0352-1a7d-456f-b43f-6be010952429",
   "metadata": {},
   "source": [
    "### Unsuccessful Login Attempts"
   ]
  },
  {
   "cell_type": "code",
   "execution_count": 151,
   "id": "7f1f48e5-d7b8-47a6-b9e2-30c5f56f5526",
   "metadata": {},
   "outputs": [
    {
     "name": "stdout",
     "output_type": "stream",
     "text": [
      "Unsuccessful Login Attempts:\n",
      "\n"
     ]
    },
    {
     "data": {
      "text/html": [
       "<div>\n",
       "<style scoped>\n",
       "    .dataframe tbody tr th:only-of-type {\n",
       "        vertical-align: middle;\n",
       "    }\n",
       "\n",
       "    .dataframe tbody tr th {\n",
       "        vertical-align: top;\n",
       "    }\n",
       "\n",
       "    .dataframe thead th {\n",
       "        text-align: right;\n",
       "    }\n",
       "</style>\n",
       "<table border=\"1\" class=\"dataframe\">\n",
       "  <thead>\n",
       "    <tr style=\"text-align: right;\">\n",
       "      <th></th>\n",
       "      <th>IP</th>\n",
       "      <th>Timestamp</th>\n",
       "      <th>Method</th>\n",
       "      <th>Path</th>\n",
       "      <th>Status</th>\n",
       "      <th>Bytes</th>\n",
       "      <th>Referrer</th>\n",
       "      <th>User_Agent</th>\n",
       "      <th>ErrorCount</th>\n",
       "      <th>RollingErrorCount</th>\n",
       "      <th>Date</th>\n",
       "      <th>Time_Diff</th>\n",
       "      <th>IncreasedErrors</th>\n",
       "      <th>IsOutlier</th>\n",
       "      <th>tokens</th>\n",
       "      <th>text</th>\n",
       "      <th>Label</th>\n",
       "    </tr>\n",
       "  </thead>\n",
       "  <tbody>\n",
       "    <tr>\n",
       "      <th>3152</th>\n",
       "      <td>207.46.13.136</td>\n",
       "      <td>2019-01-22 04:16:00+03:30</td>\n",
       "      <td>GET</td>\n",
       "      <td>/login/auth?forwardUri=%2Ffilter%2Fp1422%2Cb132</td>\n",
       "      <td>200</td>\n",
       "      <td>34461</td>\n",
       "      <td>-</td>\n",
       "      <td>Mozilla/5.0 (compatible; bingbot/2.0; +http://...</td>\n",
       "      <td>1</td>\n",
       "      <td>12.0</td>\n",
       "      <td>2019-01-22</td>\n",
       "      <td>0 days 00:00:19</td>\n",
       "      <td>1</td>\n",
       "      <td>1</td>\n",
       "      <td>[2ffilter, 2fp1422, 2cb132]</td>\n",
       "      <td>2ffilter 2fp1422 2cb132</td>\n",
       "      <td>1</td>\n",
       "    </tr>\n",
       "    <tr>\n",
       "      <th>4328</th>\n",
       "      <td>207.46.13.136</td>\n",
       "      <td>2019-01-22 04:25:41+03:30</td>\n",
       "      <td>GET</td>\n",
       "      <td>/login/auth?forwardUri=%2Ffilter%2Fp5665%2Cb249</td>\n",
       "      <td>200</td>\n",
       "      <td>33260</td>\n",
       "      <td>-</td>\n",
       "      <td>Mozilla/5.0 (compatible; bingbot/2.0; +http://...</td>\n",
       "      <td>1</td>\n",
       "      <td>12.0</td>\n",
       "      <td>2019-01-22</td>\n",
       "      <td>0 days 00:00:14</td>\n",
       "      <td>1</td>\n",
       "      <td>1</td>\n",
       "      <td>[2ffilter, 2fp5665, 2cb249]</td>\n",
       "      <td>2ffilter 2fp5665 2cb249</td>\n",
       "      <td>1</td>\n",
       "    </tr>\n",
       "    <tr>\n",
       "      <th>8447</th>\n",
       "      <td>54.36.148.59</td>\n",
       "      <td>2019-01-22 04:55:16+03:30</td>\n",
       "      <td>GET</td>\n",
       "      <td>/login/auth?forwardUri=%2Ffilter%2Fb206%2Cb284...</td>\n",
       "      <td>200</td>\n",
       "      <td>33200</td>\n",
       "      <td>-</td>\n",
       "      <td>Mozilla/5.0 (compatible; AhrefsBot/6.1; +http:...</td>\n",
       "      <td>1</td>\n",
       "      <td>12.0</td>\n",
       "      <td>2019-01-22</td>\n",
       "      <td>NaT</td>\n",
       "      <td>1</td>\n",
       "      <td>1</td>\n",
       "      <td>[2ffilter, 2fb206, 2cb284, 2cp6446, 2cstexists]</td>\n",
       "      <td>2ffilter 2fb206 2cb284 2cp6446 2cstexists</td>\n",
       "      <td>1</td>\n",
       "    </tr>\n",
       "    <tr>\n",
       "      <th>18138</th>\n",
       "      <td>40.77.167.13</td>\n",
       "      <td>2019-01-22 05:59:02+03:30</td>\n",
       "      <td>GET</td>\n",
       "      <td>/login/auth?forwardUri=%2Ffilter%2Fb36%2Cp4</td>\n",
       "      <td>200</td>\n",
       "      <td>33189</td>\n",
       "      <td>-</td>\n",
       "      <td>Mozilla/5.0 (compatible; bingbot/2.0; +http://...</td>\n",
       "      <td>1</td>\n",
       "      <td>12.0</td>\n",
       "      <td>2019-01-22</td>\n",
       "      <td>0 days 00:00:06</td>\n",
       "      <td>1</td>\n",
       "      <td>1</td>\n",
       "      <td>[2ffilter, 2fb36, 2cp4]</td>\n",
       "      <td>2ffilter 2fb36 2cp4</td>\n",
       "      <td>1</td>\n",
       "    </tr>\n",
       "    <tr>\n",
       "      <th>21483</th>\n",
       "      <td>40.77.167.13</td>\n",
       "      <td>2019-01-22 06:19:37+03:30</td>\n",
       "      <td>GET</td>\n",
       "      <td>/login/auth?forwardUri=%2Ffilter%2Fb50%2Cp24</td>\n",
       "      <td>200</td>\n",
       "      <td>33257</td>\n",
       "      <td>-</td>\n",
       "      <td>Mozilla/5.0 (compatible; bingbot/2.0; +http://...</td>\n",
       "      <td>1</td>\n",
       "      <td>12.0</td>\n",
       "      <td>2019-01-22</td>\n",
       "      <td>0 days 00:00:59</td>\n",
       "      <td>1</td>\n",
       "      <td>1</td>\n",
       "      <td>[2ffilter, 2fb50, 2cp24]</td>\n",
       "      <td>2ffilter 2fb50 2cp24</td>\n",
       "      <td>1</td>\n",
       "    </tr>\n",
       "  </tbody>\n",
       "</table>\n",
       "</div>"
      ],
      "text/plain": [
       "                  IP                 Timestamp Method  \\\n",
       "3152   207.46.13.136 2019-01-22 04:16:00+03:30    GET   \n",
       "4328   207.46.13.136 2019-01-22 04:25:41+03:30    GET   \n",
       "8447    54.36.148.59 2019-01-22 04:55:16+03:30    GET   \n",
       "18138   40.77.167.13 2019-01-22 05:59:02+03:30    GET   \n",
       "21483   40.77.167.13 2019-01-22 06:19:37+03:30    GET   \n",
       "\n",
       "                                                    Path Status  Bytes  \\\n",
       "3152     /login/auth?forwardUri=%2Ffilter%2Fp1422%2Cb132    200  34461   \n",
       "4328     /login/auth?forwardUri=%2Ffilter%2Fp5665%2Cb249    200  33260   \n",
       "8447   /login/auth?forwardUri=%2Ffilter%2Fb206%2Cb284...    200  33200   \n",
       "18138        /login/auth?forwardUri=%2Ffilter%2Fb36%2Cp4    200  33189   \n",
       "21483       /login/auth?forwardUri=%2Ffilter%2Fb50%2Cp24    200  33257   \n",
       "\n",
       "      Referrer                                         User_Agent  ErrorCount  \\\n",
       "3152         -  Mozilla/5.0 (compatible; bingbot/2.0; +http://...           1   \n",
       "4328         -  Mozilla/5.0 (compatible; bingbot/2.0; +http://...           1   \n",
       "8447         -  Mozilla/5.0 (compatible; AhrefsBot/6.1; +http:...           1   \n",
       "18138        -  Mozilla/5.0 (compatible; bingbot/2.0; +http://...           1   \n",
       "21483        -  Mozilla/5.0 (compatible; bingbot/2.0; +http://...           1   \n",
       "\n",
       "       RollingErrorCount        Date       Time_Diff  IncreasedErrors  \\\n",
       "3152                12.0  2019-01-22 0 days 00:00:19                1   \n",
       "4328                12.0  2019-01-22 0 days 00:00:14                1   \n",
       "8447                12.0  2019-01-22             NaT                1   \n",
       "18138               12.0  2019-01-22 0 days 00:00:06                1   \n",
       "21483               12.0  2019-01-22 0 days 00:00:59                1   \n",
       "\n",
       "       IsOutlier                                           tokens  \\\n",
       "3152           1                      [2ffilter, 2fp1422, 2cb132]   \n",
       "4328           1                      [2ffilter, 2fp5665, 2cb249]   \n",
       "8447           1  [2ffilter, 2fb206, 2cb284, 2cp6446, 2cstexists]   \n",
       "18138          1                          [2ffilter, 2fb36, 2cp4]   \n",
       "21483          1                         [2ffilter, 2fb50, 2cp24]   \n",
       "\n",
       "                                            text  Label  \n",
       "3152                     2ffilter 2fp1422 2cb132      1  \n",
       "4328                     2ffilter 2fp5665 2cb249      1  \n",
       "8447   2ffilter 2fb206 2cb284 2cp6446 2cstexists      1  \n",
       "18138                        2ffilter 2fb36 2cp4      1  \n",
       "21483                       2ffilter 2fb50 2cp24      1  "
      ]
     },
     "execution_count": 151,
     "metadata": {},
     "output_type": "execute_result"
    }
   ],
   "source": [
    "unsuccessful_logins = log_df[log_df['Path'].str.contains('login|auth', case=False) & (log_df['Status'] != 200)]\n",
    "print('Unsuccessful Login Attempts:\\n')\n",
    "unsuccessful_logins.head()\n"
   ]
  },
  {
   "cell_type": "markdown",
   "id": "9c37386f-f863-4bc8-8130-db54554d7350",
   "metadata": {},
   "source": [
    "## Business Insights\n",
    "### Product Views"
   ]
  },
  {
   "cell_type": "code",
   "execution_count": 131,
   "id": "1e440dfd-77cf-44a1-a041-2d4dd88ac761",
   "metadata": {},
   "outputs": [
    {
     "name": "stdout",
     "output_type": "stream",
     "text": [
      "Product Clicks:\n",
      " Empty DataFrame\n",
      "Columns: [IP, Timestamp, Method, Path, Status, Bytes, Referrer, User_Agent, ErrorCount, RollingErrorCount, Date, Time_Diff]\n",
      "Index: []\n"
     ]
    }
   ],
   "source": [
    "# Filter log entries for successful product clicks (excluding images)\n",
    "product_clicks = log_df[\n",
    "    (log_df['Path'].str.contains('product', case=False)) & \n",
    "    (log_df['Status'] == 200) & \n",
    "    (~log_df['Path'].str.lower().str.contains('.jpg|.png|.gif|.jpeg').notna())\n",
    "]\n",
    "\n",
    "# Display the product clicks\n",
    "print('Product Clicks:\\n', product_clicks)\n"
   ]
  },
  {
   "cell_type": "markdown",
   "id": "29cca07c-7cfa-494f-aa9f-f3e244ed0eee",
   "metadata": {},
   "source": [
    "# ML Use Cases"
   ]
  },
  {
   "cell_type": "markdown",
   "id": "9e3951da-a219-4db3-a24a-cae8b88ee00f",
   "metadata": {},
   "source": [
    "## Predictive Maintenance"
   ]
  },
  {
   "cell_type": "code",
   "execution_count": 141,
   "id": "e02ad12d-d5c9-4784-afb1-e3828e4ab9c5",
   "metadata": {},
   "outputs": [
    {
     "name": "stdout",
     "output_type": "stream",
     "text": [
      "Best Parameters: {'classifier__max_depth': None, 'classifier__min_samples_leaf': 1, 'classifier__min_samples_split': 2, 'classifier__n_estimators': 50, 'imputer__strategy': 'mean'}\n",
      "Accuracy: 1.00\n",
      "Classification Report:\n",
      "               precision    recall  f1-score   support\n",
      "\n",
      "           1       1.00      1.00      1.00      4863\n",
      "\n",
      "    accuracy                           1.00      4863\n",
      "   macro avg       1.00      1.00      1.00      4863\n",
      "weighted avg       1.00      1.00      1.00      4863\n",
      "\n"
     ]
    }
   ],
   "source": [
    "import pandas as pd\n",
    "from sklearn.ensemble import RandomForestClassifier\n",
    "from sklearn.model_selection import train_test_split, GridSearchCV\n",
    "from sklearn.metrics import accuracy_score, classification_report\n",
    "from sklearn.impute import SimpleImputer\n",
    "from sklearn.pipeline import Pipeline\n",
    "\n",
    "# Step 2: Labeling\n",
    "log_df['IncreasedErrors'] = (log_df['RollingErrorCount'] > 5).astype(int)  # Adjust threshold as needed\n",
    "\n",
    "# Step 3: Training a Classifier\n",
    "features = log_df[['RollingErrorCount']]  # Use relevant features\n",
    "labels = log_df['IncreasedErrors']\n",
    "\n",
    "# Step 3.1: Create a pipeline with imputation and classifier\n",
    "pipeline = Pipeline([\n",
    "    ('imputer', SimpleImputer(strategy='mean')),\n",
    "    ('classifier', RandomForestClassifier(random_state=42))\n",
    "])\n",
    "\n",
    "# Step 3.2: Define hyperparameters to tune\n",
    "param_grid = {\n",
    "    'imputer__strategy': ['mean', 'median'],\n",
    "    'classifier__n_estimators': [50, 100, 200],\n",
    "    'classifier__max_depth': [None, 10, 20, 30],\n",
    "    'classifier__min_samples_split': [2, 5, 10],\n",
    "    'classifier__min_samples_leaf': [1, 2, 4]\n",
    "}\n",
    "\n",
    "# Step 3.3: Perform GridSearchCV\n",
    "grid_search = GridSearchCV(pipeline, param_grid=param_grid, cv=5)\n",
    "grid_search.fit(features, labels)\n",
    "\n",
    "# Step 4: Evaluation\n",
    "X_train, X_test, y_train, y_test = train_test_split(features, labels, test_size=0.2, random_state=42)\n",
    "predictions = grid_search.predict(X_test)\n",
    "accuracy = accuracy_score(y_test, predictions)\n",
    "classification_rep = classification_report(y_test, predictions)\n",
    "\n",
    "print(f'Best Parameters: {grid_search.best_params_}')\n",
    "print(f'Accuracy: {accuracy:.2f}')\n",
    "print('Classification Report:\\n', classification_rep)\n"
   ]
  },
  {
   "cell_type": "markdown",
   "id": "41b7141f-bd6e-40dd-a7b1-e34e30249c15",
   "metadata": {},
   "source": [
    "## Anomaly Detection"
   ]
  },
  {
   "cell_type": "code",
   "execution_count": 145,
   "id": "e84f55b6-219d-462f-979b-9af543f7cb21",
   "metadata": {},
   "outputs": [
    {
     "name": "stdout",
     "output_type": "stream",
     "text": [
      "<class 'pandas.core.frame.DataFrame'>\n",
      "Int64Index: 691 entries, 19 to 2860740\n",
      "Data columns (total 17 columns):\n",
      " #   Column             Non-Null Count  Dtype                                \n",
      "---  ------             --------------  -----                                \n",
      " 0   IP                 691 non-null    object                               \n",
      " 1   Timestamp          691 non-null    datetime64[ns, pytz.FixedOffset(210)]\n",
      " 2   Method             691 non-null    object                               \n",
      " 3   Path               691 non-null    object                               \n",
      " 4   Status             691 non-null    object                               \n",
      " 5   Bytes              691 non-null    object                               \n",
      " 6   Referrer           691 non-null    object                               \n",
      " 7   User_Agent         691 non-null    object                               \n",
      " 8   ErrorCount         691 non-null    int64                                \n",
      " 9   RollingErrorCount  690 non-null    float64                              \n",
      " 10  Date               691 non-null    object                               \n",
      " 11  Time_Diff          556 non-null    timedelta64[ns]                      \n",
      " 12  IncreasedErrors    691 non-null    int64                                \n",
      " 13  IsOutlier          691 non-null    int64                                \n",
      " 14  tokens             691 non-null    object                               \n",
      " 15  text               691 non-null    object                               \n",
      " 16  Label              691 non-null    int64                                \n",
      "dtypes: datetime64[ns, pytz.FixedOffset(210)](1), float64(1), int64(4), object(10), timedelta64[ns](1)\n",
      "memory usage: 97.2+ KB\n"
     ]
    }
   ],
   "source": [
    "from sklearn.ensemble import IsolationForest\n",
    "from sklearn.impute import SimpleImputer\n",
    "\n",
    "# Extract relevant features\n",
    "features = log_df[['Bytes', 'Status']]\n",
    "\n",
    "# Impute missing values\n",
    "imputer = SimpleImputer(strategy='mean')\n",
    "features_imputed = imputer.fit_transform(features)\n",
    "\n",
    "# Train the Isolation Forest model\n",
    "model = IsolationForest(contamination=0.05, random_state=42)  # Adjust contamination based on your dataset\n",
    "model.fit(features_imputed)\n",
    "\n",
    "# Predict outliers (anomalies)\n",
    "outliers = model.predict(features_imputed)\n",
    "\n",
    "# Add the outlier predictions to the DataFrame\n",
    "log_df['IsOutlier'] = outliers\n",
    "\n",
    "# Display the log entries with anomalies\n",
    "anomalies = log_df[log_df['IsOutlier'] == -1]\n",
    "#print('Anomalies:\\n', anomalies)\n",
    "anomalies.head()\n",
    "anomalies.info()"
   ]
  },
  {
   "cell_type": "code",
   "execution_count": 154,
   "id": "52f1227c-193c-4475-a54b-6ed59f9086f9",
   "metadata": {},
   "outputs": [
    {
     "data": {
      "image/png": "[encoded data removed]",
      "text/plain": [
       "<Figure size 1200x600 with 1 Axes>"
      ]
     },
     "metadata": {},
     "output_type": "display_data"
    }
   ],
   "source": [
    "anomalies = log_df[log_df['IsOutlier'] == -1]\n",
    "\n",
    "# Plotting\n",
    "plt.figure(figsize=(12, 6))\n",
    "plt.plot(log_df['Timestamp'], log_df['RollingErrorCount'], label='Rolling Error Count', color='blue')\n",
    "plt.scatter(anomalies['Timestamp'], anomalies['RollingErrorCount'], color='red', label='Anomalies')\n",
    "plt.title('Anomalies in Rolling Error Count over Time')\n",
    "plt.xlabel('Timestamp')\n",
    "plt.ylabel('Rolling Error Count')\n",
    "plt.legend()\n",
    "# Save the countplot as an image file\n",
    "plt.savefig('images/anomaly.png')\n",
    "plt.show()\n"
   ]
  },
  {
   "cell_type": "markdown",
   "id": "6e5b02b3-41ca-4374-b2e2-af78bf9e5a6a",
   "metadata": {},
   "source": [
    "## Security Threat Detection\n",
    "### Tokenization"
   ]
  },
  {
   "cell_type": "code",
   "execution_count": 134,
   "id": "d57d99d1-43ea-440c-8ec6-c4ccdc556e2f",
   "metadata": {},
   "outputs": [
    {
     "name": "stderr",
     "output_type": "stream",
     "text": [
      "[nltk_data] Downloading package stopwords to\n",
      "[nltk_data]     /Users/vpriyata/nltk_data...\n",
      "[nltk_data]   Package stopwords is already up-to-date!\n"
     ]
    }
   ],
   "source": [
    "import nltk\n",
    "from nltk.tokenize import word_tokenize\n",
    "from nltk.corpus import stopwords\n",
    "\n",
    "# Download the stopwords dataset if not already downloaded\n",
    "nltk.download('stopwords')\n",
    "\n",
    "# Get English stopwords\n",
    "stop_words = set(stopwords.words('english'))\n",
    "\n",
    "# Assuming 'Path' is the column with text data\n",
    "log_df['tokens'] = log_df['Path'].apply(lambda x: [token for token in word_tokenize(x.lower()) if token.isalnum() and token not in stop_words])\n",
    "\n"
   ]
  },
  {
   "cell_type": "markdown",
   "id": "9bd1325f-325b-45d2-9ada-15c65bd82940",
   "metadata": {},
   "source": [
    "### Frequency Analysis"
   ]
  },
  {
   "cell_type": "code",
   "execution_count": 135,
   "id": "c66dd6db-9e03-4a6f-81a1-44f44612c055",
   "metadata": {},
   "outputs": [
    {
     "name": "stdout",
     "output_type": "stream",
     "text": [
      "[('d8', 59102), ('d9', 41258), ('db', 13901), ('a7', 13618), ('8c', 9736), ('af', 8873), ('85', 7929), ('da', 7193), ('27', 7091), ('88', 7068), ('b1', 7024), ('86', 5960), ('b3', 5480), ('a8', 3602), ('84', 3598), ('aa', 3377), ('b4', 3290), ('a9', 3072), ('b2', 2896), ('20', 2864)]\n"
     ]
    }
   ],
   "source": [
    "from nltk.probability import FreqDist\n",
    "\n",
    "# Flatten the list of tokens\n",
    "all_tokens = [token for sublist in log_df['tokens'] for token in sublist]\n",
    "\n",
    "# Calculate the frequency distribution\n",
    "freq_dist = FreqDist(all_tokens)\n",
    "\n",
    "# Display the most common tokens\n",
    "common_tokens = freq_dist.most_common(20)\n",
    "print(common_tokens)\n"
   ]
  },
  {
   "cell_type": "markdown",
   "id": "09b8b730-b8f0-44d2-b846-82de2b3bec3c",
   "metadata": {},
   "source": [
    "### Keyword Extraction"
   ]
  },
  {
   "cell_type": "code",
   "execution_count": 136,
   "id": "5f2d49d3-2d89-4fc0-a4a2-9619a4a72b52",
   "metadata": {},
   "outputs": [
    {
     "name": "stdout",
     "output_type": "stream",
     "text": [
      "[array([['d8', 'd9', 'db', ..., '201339692', '201315423', '27price']],\n",
      "      dtype=object)]\n"
     ]
    }
   ],
   "source": [
    "from sklearn.feature_extraction.text import TfidfVectorizer\n",
    "\n",
    "# Convert the list of tokens back to text\n",
    "log_df['text'] = log_df['tokens'].apply(lambda x: ' '.join(x))\n",
    "\n",
    "# TF-IDF vectorization\n",
    "vectorizer = TfidfVectorizer()\n",
    "tfidf_matrix = vectorizer.fit_transform(log_df['text'])\n",
    "\n",
    "# Get feature names (words)\n",
    "feature_names = vectorizer.get_feature_names_out()\n",
    "\n",
    "# Identify important keywords\n",
    "important_keywords = [feature_names[i] for i in tfidf_matrix.sum(axis=0).argsort()[0, ::-1][:20]]\n",
    "print(important_keywords)\n"
   ]
  },
  {
   "cell_type": "markdown",
   "id": "b06ab878-777e-4b78-9434-42d0f3c14168",
   "metadata": {},
   "source": [
    "###  bag-of-words approach to vectorize the textual features\n",
    "\n"
   ]
  },
  {
   "cell_type": "code",
   "execution_count": 137,
   "id": "0a448d11-dc22-420a-a520-395836c57ff2",
   "metadata": {},
   "outputs": [
    {
     "name": "stdout",
     "output_type": "stream",
     "text": [
      "Accuracy: 1.0\n",
      "Classification Report:\n",
      "               precision    recall  f1-score   support\n",
      "\n",
      "           0       1.00      1.00      1.00      4856\n",
      "           1       1.00      1.00      1.00         7\n",
      "\n",
      "    accuracy                           1.00      4863\n",
      "   macro avg       1.00      1.00      1.00      4863\n",
      "weighted avg       1.00      1.00      1.00      4863\n",
      "\n"
     ]
    }
   ],
   "source": [
    "from sklearn.model_selection import train_test_split\n",
    "from sklearn.ensemble import RandomForestClassifier\n",
    "from sklearn.compose import ColumnTransformer\n",
    "from sklearn.pipeline import Pipeline\n",
    "from sklearn.impute import SimpleImputer\n",
    "from sklearn.feature_extraction.text import CountVectorizer\n",
    "from sklearn.preprocessing import OneHotEncoder\n",
    "from sklearn.metrics import classification_report, accuracy_score\n",
    "\n",
    "\n",
    "# Create labels: 0 for normal requests, 1 for suspicious requests\n",
    "log_df['Label'] = 0\n",
    "log_df.loc[suspicious_mask, 'Label'] = 1\n",
    "\n",
    "# Split the data into training and testing sets\n",
    "train_data, test_data, train_labels, test_labels = train_test_split(log_df[['IP', 'Path', 'User_Agent']], log_df['Label'], test_size=0.2, random_state=42)\n",
    "\n",
    "# Define preprocessing for numeric and text features\n",
    "numeric_features = ['IP']\n",
    "text_features = ['Path', 'User_Agent']\n",
    "\n",
    "numeric_transformer = Pipeline(steps=[\n",
    "    ('imputer', SimpleImputer(strategy='constant', fill_value='missing')),  # Replace missing values with a constant\n",
    "    ('encoder', OneHotEncoder(handle_unknown='ignore'))  # One-hot encode the categorical IP addresses\n",
    "])\n",
    "\n",
    "text_transformer = Pipeline(steps=[\n",
    "    ('imputer', SimpleImputer(strategy='constant', fill_value='')),  # Replace missing values with an empty string\n",
    "    ('vectorizer', CountVectorizer(lowercase=True, preprocessor=lambda x: x[0]))  # Convert text to a bag-of-words representation with lowercase\n",
    "])\n",
    "\n",
    "# Combine transformers using ColumnTransformer\n",
    "preprocessor = ColumnTransformer(\n",
    "    transformers=[\n",
    "        ('num', numeric_transformer, numeric_features),\n",
    "        ('text', text_transformer, text_features)\n",
    "    ])\n",
    "\n",
    "# Create a pipeline with preprocessing and RandomForestClassifier\n",
    "model = Pipeline(steps=[('preprocessor', preprocessor),\n",
    "                        ('classifier', RandomForestClassifier(random_state=42))])\n",
    "\n",
    "# Train the model\n",
    "model.fit(train_data, train_labels)\n",
    "\n",
    "# Make predictions on the test set\n",
    "predictions = model.predict(test_data)\n",
    "\n",
    "# Evaluate the model\n",
    "print('Accuracy:', accuracy_score(test_labels, predictions))\n",
    "print('Classification Report:\\n', classification_report(test_labels, predictions))\n"
   ]
  },
  {
   "cell_type": "code",
   "execution_count": null,
   "id": "ef9104da-5196-4730-8863-46b5cc1fa7e2",
   "metadata": {},
   "outputs": [],
   "source": []
  }
 ],
 "metadata": {
  "kernelspec": {
   "display_name": "Python 3 (ipykernel)",
   "language": "python",
   "name": "python3"
  },
  "language_info": {
   "codemirror_mode": {
    "name": "ipython",
    "version": 3
   },
   "file_extension": ".py",
   "mimetype": "text/x-python",
   "name": "python",
   "nbconvert_exporter": "python",
   "pygments_lexer": "ipython3",
   "version": "3.10.9"
  }
 },
 "nbformat": 4,
 "nbformat_minor": 5
}
